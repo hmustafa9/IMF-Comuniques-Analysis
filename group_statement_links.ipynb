{
 "cells": [
  {
   "cell_type": "code",
   "execution_count": 25,
   "metadata": {},
   "outputs": [
    {
     "name": "stdout",
     "output_type": "stream",
     "text": [
      "Dataset created and saved to 'imf_statements_links.csv'\n"
     ]
    }
   ],
   "source": [
    "import requests\n",
    "from bs4 import BeautifulSoup\n",
    "import pandas as pd\n",
    "\n",
    "def check_imf_statements():\n",
    "    # Define URL formats for different year ranges\n",
    "    url_format_2012_onwards = \"https://meetings.imf.org/en/{year}/Annual/Statements\"\n",
    "    url_format_2004_to_2011 = \"https://www.imf.org/external/am/{year}/imfc/index.aspx\"\n",
    "    dataset = []\n",
    "\n",
    "    for year in range(2024, 2003, -1):\n",
    "        if year >= 2012:\n",
    "            url = url_format_2012_onwards.format(year=year)\n",
    "            search_pattern = \"/AMSM/\"\n",
    "            base_url = \"https://meetings.imf.org\"\n",
    "        else:\n",
    "            url = url_format_2004_to_2011.format(year=year)\n",
    "            search_pattern = \"/AM/\"\n",
    "            base_url = \"https://www.imf.org\"\n",
    "\n",
    "        response = requests.get(url)\n",
    "        \n",
    "        if response.status_code == 404:\n",
    "            print(f\"Page does not exist for the year {year}\")\n",
    "            continue\n",
    "        \n",
    "        # Parse the HTML content of the page\n",
    "        soup = BeautifulSoup(response.content, 'html.parser')\n",
    "        \n",
    "        # Find and filter links based on the search pattern\n",
    "        filtered_links = [link for link in soup.find_all('a', href=True) if search_pattern in link['href']]\n",
    "        \n",
    "        # Extract links and corresponding text\n",
    "        data = {\n",
    "            'year': [year] * len(filtered_links),  # Repeat the year for each link\n",
    "            'title': [link.get_text(strip=True) for link in filtered_links],\n",
    "            'link': [base_url + link['href'] for link in filtered_links]\n",
    "        }\n",
    "        \n",
    "        # Store data in a dataset\n",
    "        dataset.extend(zip(data['year'], data['title'], data['link']))\n",
    "    \n",
    "    # Create a DataFrame and save it to a CSV file\n",
    "    df = pd.DataFrame(dataset, columns=['Year', 'Title', 'Link'])\n",
    "    df['Link'] = df['Link'].str.replace('.ashx', '.pdf')\n",
    "    df.to_csv('imf_statements_links.csv', index=False)\n",
    "    print(\"Dataset created and saved to 'imf_statements_links.csv'\")\n",
    "\n",
    "check_imf_statements()\n"
   ]
  }
 ],
 "metadata": {
  "kernelspec": {
   "display_name": "Python 3",
   "language": "python",
   "name": "python3"
  },
  "language_info": {
   "codemirror_mode": {
    "name": "ipython",
    "version": 3
   },
   "file_extension": ".py",
   "mimetype": "text/x-python",
   "name": "python",
   "nbconvert_exporter": "python",
   "pygments_lexer": "ipython3",
   "version": "3.13.1"
  }
 },
 "nbformat": 4,
 "nbformat_minor": 2
}
