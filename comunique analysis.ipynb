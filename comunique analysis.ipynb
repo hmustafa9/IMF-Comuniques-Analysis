{
 "cells": [
  {
   "cell_type": "code",
   "execution_count": 1,
   "metadata": {},
   "outputs": [],
   "source": [
    "import pandas as pd \n",
    "import plotly.express as px"
   ]
  },
  {
   "cell_type": "code",
   "execution_count": 2,
   "metadata": {},
   "outputs": [],
   "source": [
    "data=pd.read_csv(r'csvs/scraped_data.csv')"
   ]
  },
  {
   "cell_type": "code",
   "execution_count": 3,
   "metadata": {},
   "outputs": [
    {
     "data": {
      "text/html": [
       "<div>\n",
       "<style scoped>\n",
       "    .dataframe tbody tr th:only-of-type {\n",
       "        vertical-align: middle;\n",
       "    }\n",
       "\n",
       "    .dataframe tbody tr th {\n",
       "        vertical-align: top;\n",
       "    }\n",
       "\n",
       "    .dataframe thead th {\n",
       "        text-align: right;\n",
       "    }\n",
       "</style>\n",
       "<table border=\"1\" class=\"dataframe\">\n",
       "  <thead>\n",
       "    <tr style=\"text-align: right;\">\n",
       "      <th></th>\n",
       "      <th>Title</th>\n",
       "      <th>Date</th>\n",
       "      <th>Subtext</th>\n",
       "    </tr>\n",
       "  </thead>\n",
       "  <tbody>\n",
       "    <tr>\n",
       "      <th>0</th>\n",
       "      <td>Intergovernmental Group of Twenty-Four on Inte...</td>\n",
       "      <td>October 22, 2024</td>\n",
       "      <td>1. The G-24 expresses its deep concern over th...</td>\n",
       "    </tr>\n",
       "    <tr>\n",
       "      <th>1</th>\n",
       "      <td>Intergovernmental Group of Twenty-Four on Inte...</td>\n",
       "      <td>April 16, 2024</td>\n",
       "      <td>1. The G‑24 recognizes the profound human suff...</td>\n",
       "    </tr>\n",
       "    <tr>\n",
       "      <th>2</th>\n",
       "      <td>Intergovernmental Group of Twenty-Four on Inte...</td>\n",
       "      <td>October 10, 2023</td>\n",
       "      <td>1.               We  express our condolenceson...</td>\n",
       "    </tr>\n",
       "    <tr>\n",
       "      <th>3</th>\n",
       "      <td>Intergovernmental Group of Twenty-Four on Inte...</td>\n",
       "      <td>April 11, 2023</td>\n",
       "      <td>Ministers of the Intergovernmental Group of Tw...</td>\n",
       "    </tr>\n",
       "    <tr>\n",
       "      <th>4</th>\n",
       "      <td>Intergovernmental Group of Twenty-Four on Inte...</td>\n",
       "      <td>October 11, 2022</td>\n",
       "      <td>1. Multiple compounding crises have severely d...</td>\n",
       "    </tr>\n",
       "    <tr>\n",
       "      <th>...</th>\n",
       "      <td>...</td>\n",
       "      <td>...</td>\n",
       "      <td>...</td>\n",
       "    </tr>\n",
       "    <tr>\n",
       "      <th>168</th>\n",
       "      <td>Communiqué of the Interim Committee of the Boa...</td>\n",
       "      <td>September 21, 1997</td>\n",
       "      <td>In the advanced economies as a group, growth ...</td>\n",
       "    </tr>\n",
       "    <tr>\n",
       "      <th>169</th>\n",
       "      <td>Group of Twenty Four Communiqué</td>\n",
       "      <td>September 20, 1997</td>\n",
       "      <td>Ministers of the Intergovernmental Group of Tw...</td>\n",
       "    </tr>\n",
       "    <tr>\n",
       "      <th>170</th>\n",
       "      <td>Communiqué of the Ministers and Governors of t...</td>\n",
       "      <td>April 28, 1997</td>\n",
       "      <td>Washington, D.C. 1. The Ministers and Central ...</td>\n",
       "    </tr>\n",
       "    <tr>\n",
       "      <th>171</th>\n",
       "      <td>Interim Committee Communiqué</td>\n",
       "      <td>April 28, 1997</td>\n",
       "      <td>The Committee welcomed the generally favorable...</td>\n",
       "    </tr>\n",
       "    <tr>\n",
       "      <th>172</th>\n",
       "      <td>Intergovernmental Group of Twenty-Four on Inte...</td>\n",
       "      <td>April 27, 1997</td>\n",
       "      <td>Washington, DC The meeting of the Ministers wa...</td>\n",
       "    </tr>\n",
       "  </tbody>\n",
       "</table>\n",
       "<p>173 rows × 3 columns</p>\n",
       "</div>"
      ],
      "text/plain": [
       "                                                 Title                Date  \\\n",
       "0    Intergovernmental Group of Twenty-Four on Inte...    October 22, 2024   \n",
       "1    Intergovernmental Group of Twenty-Four on Inte...      April 16, 2024   \n",
       "2    Intergovernmental Group of Twenty-Four on Inte...    October 10, 2023   \n",
       "3    Intergovernmental Group of Twenty-Four on Inte...      April 11, 2023   \n",
       "4    Intergovernmental Group of Twenty-Four on Inte...    October 11, 2022   \n",
       "..                                                 ...                 ...   \n",
       "168  Communiqué of the Interim Committee of the Boa...  September 21, 1997   \n",
       "169                    Group of Twenty Four Communiqué  September 20, 1997   \n",
       "170  Communiqué of the Ministers and Governors of t...      April 28, 1997   \n",
       "171                       Interim Committee Communiqué      April 28, 1997   \n",
       "172  Intergovernmental Group of Twenty-Four on Inte...      April 27, 1997   \n",
       "\n",
       "                                               Subtext  \n",
       "0    1. The G-24 expresses its deep concern over th...  \n",
       "1    1. The G‑24 recognizes the profound human suff...  \n",
       "2    1.               We  express our condolenceson...  \n",
       "3    Ministers of the Intergovernmental Group of Tw...  \n",
       "4    1. Multiple compounding crises have severely d...  \n",
       "..                                                 ...  \n",
       "168   In the advanced economies as a group, growth ...  \n",
       "169  Ministers of the Intergovernmental Group of Tw...  \n",
       "170  Washington, D.C. 1. The Ministers and Central ...  \n",
       "171  The Committee welcomed the generally favorable...  \n",
       "172  Washington, DC The meeting of the Ministers wa...  \n",
       "\n",
       "[173 rows x 3 columns]"
      ]
     },
     "execution_count": 3,
     "metadata": {},
     "output_type": "execute_result"
    }
   ],
   "source": [
    "data"
   ]
  },
  {
   "cell_type": "code",
   "execution_count": 4,
   "metadata": {},
   "outputs": [],
   "source": [
    "df=data.copy()"
   ]
  },
  {
   "cell_type": "code",
   "execution_count": 5,
   "metadata": {},
   "outputs": [
    {
     "data": {
      "application/vnd.plotly.v1+json": {
       "config": {
        "plotlyServerURL": "https://plot.ly"
       },
       "data": [
        {
         "customdata": [
          [
           "Intergovernmental Group of Twenty-Four on International Monetary Affairs and Development"
          ],
          [
           "Intergovernmental Group of Twenty-Four on International Monetary Affairs and Development"
          ],
          [
           "Intergovernmental Group of Twenty-Four on International Monetary Affairs and Development"
          ],
          [
           "Intergovernmental Group of Twenty-Four on International Monetary Affairs and Development"
          ],
          [
           "Intergovernmental Group of Twenty-Four on International Monetary Affairs and Development"
          ],
          [
           "Intergovernmental Group of Twenty-Four on International Monetary Affairs and Development"
          ],
          [
           "Communiqué of the Forty-Fourth Meeting of the IMFC"
          ],
          [
           "Intergovernmental Group of Twenty-Four on International Monetary Affairs and Development"
          ],
          [
           "Attendance List: Communiqué of the Forty-third Meeting of the IMFC"
          ],
          [
           "Communiqué of the Forty-third Meeting of the IMFC"
          ],
          [
           "Intergovernmental Group of Twenty-Four on International Monetary Affairs and Development"
          ],
          [
           "Communiqué of the Forty Second Meeting of the IMFC"
          ],
          [
           "International Monetary and Financial Committee: Attendance List"
          ],
          [
           "Intergovernmental Group of Twenty-Four on International Monetary Affairs and Development"
          ],
          [
           "Communiqué of the Forty First Meeting of the IMFC"
          ],
          [
           "Intergovernmental Group of Twenty-Four on International Monetary Affairs and Development"
          ],
          [
           "Communiqué of the Fortieth Meeting of the IMFC"
          ],
          [
           "International Monetary and Financial Committee: Attendance List"
          ],
          [
           "Intergovernmental Group of Twenty-Four on International Monetary Affairs and Development"
          ],
          [
           "Communiqué of the Thirty-Ninth Meeting of the IMFC"
          ],
          [
           "Intergovernmental Group of Twenty Four on International Monetary Affairs and Development"
          ],
          [
           "International Monetary and Financial Committee: Attendance List"
          ],
          [
           "Communiqué of the Thirty-Eighth Meeting of the IMFC"
          ],
          [
           "Intergovernmental Group of Twenty Four on International Monetary Affairs and Development"
          ],
          [
           "Communiqué of the Thirty-Seventh Meeting of the International Monetary and Financial Committee"
          ],
          [
           "Intergovernmental Group of Twenty-Four on International Monetary Affairs and Development"
          ],
          [
           "Communiqué of the Thirty-Sixth Meeting of the International Monetary and Financial Committee (IMFC)"
          ],
          [
           "Intergovernmental Group of Twenty-Four on International Monetary Affairs and Development"
          ],
          [
           "Communiqué of the Thirty-Fifth Meeting of the IMFC"
          ],
          [
           "Intergovernmental Group of Twenty-Four on International Monetary Affairs and Development"
          ],
          [
           "Communiqué of the Thirty-Fourth Meeting of the International Monetary and Financial Committee (IMFC)"
          ],
          [
           "Intergovernmental Group of Twenty-Four on International Monetary Affairs and Development"
          ],
          [
           "Development Committee Communiqué - World Bank/IMF Spring Meetings 2016"
          ],
          [
           "Communiqué of the Thirty-Third Meeting of the IMFC, Chaired by Mr. Agustín Carstens, Governor of the Bank of Mexico"
          ],
          [
           "Communiqué: G20 Finance Ministers and Central Bank Governors Meeting"
          ],
          [
           "Intergovernmental Group of Twenty-Four on International Monetary Affairs and Development Communiqué"
          ],
          [
           "Development Committee Communiqué, Annual Meetings October 10, 2015"
          ],
          [
           "Communiqué of the Thirty-Second Meeting of the International Monetary and Financial Committee (IMFC), October 9, 2015, Lima, Peru"
          ],
          [
           "Intergovermental Group of Twenty-Four on International Monetary Affairs and Development"
          ],
          [
           "Communiqué  of the Thirty-First Meeting of the International Monetary and Financial Committee (IMFC), April 18, 2015"
          ],
          [
           "Development Committee Communiqué, Spring Meetings April 18, 2015"
          ],
          [
           "Intergovermental Group of Twenty-Four on International Monetary Affairs and Development"
          ],
          [
           "Communiqué of the Thirtieth Meeting of the International Monetary and Financial Committee (IMFC)"
          ],
          [
           "Development Committee Communiqué, Annual Meetings"
          ],
          [
           "Intergovernmental Group of Twenty-Four on International Monetary Affairs and Development, Communiqué, October 9, 2014"
          ],
          [
           "Communiqué of the Twenty-Ninth Meeting of the International Monetary and Financial Committee (IMFC)"
          ],
          [
           "Development Committee Communiqué, Spring Meetings 2014, April 12, 2014"
          ],
          [
           "Intergovernmental Group of Twenty-Four on International Monetary Affairs and Development, Communiqué, April 10, 2014"
          ],
          [
           "Communiqué of the Twenty-Eighth Meeting of the International Monetary and Financial Committee, Chaired by Mr. Tharman Shanmugaratnam, Deputy Prime Minister of Singapore and Minister for Finance, Press Release No. 13/401, October 12, 2013"
          ],
          [
           "Communiqué: Development Committee"
          ],
          [
           "Intergovernmental Group of Twenty-Four on International Monetary Affairs and Development, Communiqué, October 10, 2013"
          ],
          [
           "Communiqué of the Twenty-Seventh Meeting of the International Monetary and Financial Committee (IMFC)"
          ],
          [
           "Communiqué: Development Committee"
          ],
          [
           "Intergovernmental Group of Twenty-Four on International Monetary Affairs and Development, Communiqué, April 18, 2013"
          ],
          [
           "Communiqué of the Twenty-Sixth Meeting of the International Financial and Monetary Committee (IMFC)"
          ],
          [
           "Development Committee Communiqué, Annual Meetings, Tokyo, October 13, 2012"
          ],
          [
           "Intergovernmental Group of Twenty-Four on International Monetary Affairs And Development Communiqué"
          ],
          [
           "Development Committee Communiqué, Spring Meetings, April 21, 2012"
          ],
          [
           "Communiqué of the Twenty-Fifth Meeting of the IMFC"
          ],
          [
           "Communiqué: Intergovernmental Group Of Twenty-Four On International Monetary Affairs And Development Communiqué"
          ],
          [
           "Communiqué of the Twenty-Fourth Meeting of the IMFC: Collective Action for Global Recovery, Chaired by Mr. Tharman Shanmugaratnam, Deputy Prime Minister of Singapore and Minister for Finance"
          ],
          [
           "Development Committee Communiqué, Annual Meetings, September 24, 2011"
          ],
          [
           "Communiqué: Intergovernmental Group Of Twenty-Four On International Monetary Affairs And Development Communiqué"
          ],
          [
           "Communiqué of the Twenty-Third Meeting of the International Monetary and Financial Committee of the Board of Governors of the International Monetary Fund, April 16, 2011"
          ],
          [
           "Development Committee Communiqué, Spring Meetings, April 16, 2011"
          ],
          [
           "Intergovernmental Group of Twenty-Four on International Monetary Affairs and Development Communiqué"
          ],
          [
           "Communiqué of the Twenty-Second Meeting of the International Monetary and Financial Committee of the Board of Governors of the International Monetary Fund"
          ],
          [
           "Development Committee Communiqué, Annual Meetings, October 09, 2010"
          ],
          [
           "Intergovernmental Group of Twenty-Four on International Monetary Affairs and Development Communiqué"
          ],
          [
           "Development Committee Communiqué, Spring Meetings, April 25, 2010"
          ],
          [
           "Communiqué of the Twenty-First Meeting of the International Monetary and Financial Committee of the Board of Governors of the International Monetary Fund"
          ],
          [
           "Intergovernmental Group of Twenty-Four on International Monetary Affairs and Development Communiqué"
          ],
          [
           "Communiqué of the International Monetary and Financial Committee of the Board of Governors of the International Monetary Fund"
          ],
          [
           "Intergovernmental Group of Twenty-Four on International Monetary Affairs and Development Communiqué"
          ],
          [
           "European Bank Coordination Meeting on Bosnia and Herzegovina -- Concluding Statement by Participating Banks"
          ],
          [
           "European Banking Group Coordination Meeting for Hungary, Concluding Statement by Participating Parent Banks"
          ],
          [
           "Development Committee Communiqué, Washington, DC, April 26, 2009"
          ],
          [
           "Communiqué of the International Monetary and Financial Committee of the Board of Governors of the International Monetary Fund"
          ],
          [
           "Intergovernmental Group of Twenty-Four on International Monetary Affairs and Development: Communiqué"
          ],
          [
           "Communiqué IMF-East AFRITAC 11th Steering Committee Meeting Concluded in Blantyre on April 7, 2009"
          ],
          [
           "Statement of the Intergovernmental Group of Twenty-Four (G-24) on International Monetary Affairs and Development"
          ],
          [
           "Financial Sector Coordination Meeting on Serbia, Concluding Statement by Participating Banks"
          ],
          [
           "Financial Sector Coordination Meeting on Romania, Concluding Statement by Participating Banks"
          ],
          [
           "G8 Leaders Statement on the Global Economy"
          ],
          [
           "Communiqué of the Group of Twenty (G-20) at the 2008 Annual Meetings of the IMF and World Bank"
          ],
          [
           "Communiqué of the International Monetary and Financial Committee of the Board of Governors of the International Monetary Fund"
          ],
          [
           "Intergovernmental Group of Twenty-Four on International Monetary Affairs and Development Communiqué, October 2008"
          ],
          [
           "Development Committee Communiqué, Washington, DC, April 13, 2008"
          ],
          [
           "Communiqué of the International Monetary and Financial Committee of the Board of Governors of the International Monetary Fund"
          ],
          [
           "Intergovernmental Group of Twenty-Four on International Monetary Affairs and Development Communiqué"
          ],
          [
           "Development Committee Communiqué"
          ],
          [
           "Communique of The Ministers and Governors of the Group of Ten"
          ],
          [
           "Communiqué of the International Monetary and Financial Committee of the Board of Governors of the International Monetary Fund"
          ],
          [
           "Intergovernmental Group of Twenty-Four on International Monetary Affairs and Development Communiqué"
          ],
          [
           "Development Committee Communiqué, Washington, DC, April 15, 2007"
          ],
          [
           "Communiqué of the International Monetary and Financial Committee of the Board of Governors of the International Monetary Fund"
          ],
          [
           "Intergovernmental Group of Twenty-Four on International Monetary Affairs and Development Communiqué"
          ],
          [
           "Communiqué at the Conclusion of the High-Level Conference on Investment in Central America"
          ],
          [
           "Development Committee Communiqué"
          ],
          [
           "Communiqué of the International Monetary and Financial Committee of the Board of Governors of the International Monetary Fund, September 17, 2006"
          ],
          [
           "Communiqué of the Intergovernmental Group of Twenty-Four on International Monetary Affairs and Development"
          ],
          [
           "Communiqué of the International Monetary and Financial Committee of the Board of Governors of the International Monetary Fund, April 22, 2006"
          ],
          [
           "Communiqué of the Intergovernmental Group of Twenty-Four on International Monetary Affairs and Development"
          ],
          [
           "Communiqué at the Conclusion of the Conference on Trade Facilitation in Algeria, Morocco, and Tunisia"
          ],
          [
           "Development Committee Communiqué, 2005 Annual Meetings"
          ],
          [
           "Communiqué of the Ministers and Governors of the Group of Ten, Washington DC, Annual Meetings 2005"
          ],
          [
           "Communiqué of the International Monetary and Financial Committee of the Board of Governors of the International Monetary Fund"
          ],
          [
           "Communiqué of the Intergovernmental Group of Twenty-Four on International Monetary Affairs and Development"
          ],
          [
           "Communiqué of the International Monetary and Financial Committee of the Board of Governors of the International Monetary Fund"
          ],
          [
           "Communiqué of the Intergovernmental Group of Twenty-Four on International Monetary Affairs and Development"
          ],
          [
           "Communiqué of the Ministers and Governors of the Group of Ten"
          ],
          [
           "Communiqué of the International Monetary and Financial Committee (IMFC) of the Board of Governors of the International Monetary Fund, October 2, 2004"
          ],
          [
           "Development Committee Communiqué"
          ],
          [
           "Communiqué of the Intergovernmental Group of Twenty-Four on International Monetary Affairs and Development"
          ],
          [
           "Development Committee - Communiqué"
          ],
          [
           "Communiqué of the International Monetary and Financial Committee of the Board of Governors of the International Monetary Fund"
          ],
          [
           "Communiqué of the Intergovernmental Group of Twenty-Four on International Monetary Affairs and Development"
          ],
          [
           "Development Committee - Communiqué"
          ],
          [
           "Communiqué of the Ministers and Governors of the Group of Ten, September 21, 2003"
          ],
          [
           "Communiqué of the International Monetary and Financial Committee of the Board of Governors of the International Monetary Fund"
          ],
          [
           "Communiqué of the Intergovernmental Group of Twenty-Four on International Monetary Affairs and Development"
          ],
          [
           "Development Committee - Communiqué"
          ],
          [
           "Communiqué of the International Monetary and Financial Committee of the Board of Governors of the International Monetary Fund"
          ],
          [
           "Intergovernmental Group of Twenty-Four Communiqué"
          ],
          [
           "Communiqué - Development Committee"
          ],
          [
           "Communiqué of the International Monetary and Financial Committee of the Board of Governors of the International Monetary Fund"
          ],
          [
           "Communiqué - Intergovernmental Group of Twenty-Four on International Monetary Affairs and Development"
          ],
          [
           "Communiqué of the Ministers and Governors of the Group of Ten"
          ],
          [
           "Joint Note on the Doha Development Agenda"
          ],
          [
           "Communiqué - Development Committee"
          ],
          [
           "Communiqué of the Ministers and Governors of the Group of Ten"
          ],
          [
           "Communiqué of the International Monetary and Financial Committee of the Board of Governors of the International Monetary Fund"
          ],
          [
           "Intergovernmental Group of Twenty-Four on International Monetary Affairs and Development - Communiqué"
          ],
          [
           "Communiqué of the Development Committee"
          ],
          [
           "Communiqué of the International Monetary and Financial Committee of the Board of Governors of the International Monetary Fund"
          ],
          [
           "Intergovernmental Group Of Twenty-Four On International Monetary Affairs and Development - Communiqué"
          ],
          [
           "Development Committee Communiqueué, Spring 2001"
          ],
          [
           "Communiqué -- Joint Session - IMFC and Development Committee"
          ],
          [
           "Communiqué of the Ministers and Governors of the Group of Ten"
          ],
          [
           "Communiqué of the International Monetary and Financial Committee of the Board of Governors of the International Monetary Fund"
          ],
          [
           "Intergovernmental Group Of Twenty-Four On International Monetary Affairs - Communiqué"
          ],
          [
           "Development Committee Communiqué"
          ],
          [
           "Communiqué of the International Monetary and Financial Committee of the Board of Governors of the International Monetary Fund"
          ],
          [
           "Group of 10 Communiqué"
          ],
          [
           "Communiqué of the Joint Session--IMFC and Development Committee on HIPC and PRSP Implementation"
          ],
          [
           "Group of 24 Communiqué"
          ],
          [
           "Communiqué of the Development Committee"
          ],
          [
           "Communiqué of the International Monetary and Financial Committee of the Board of Governors of the International Monetary Fund"
          ],
          [
           "Group of 24 Communiqué"
          ],
          [
           "Communiqué of the Development Committee"
          ],
          [
           "Joint Meeting of the Interim and Development Committees - Joint Statement by the Co-Chairmen"
          ],
          [
           "Communiqué of the Interim Committee of the Board of Governors of the International\r\nMonetary Fund"
          ],
          [
           "Group of 10 Communiqué"
          ],
          [
           "Group of 24 Communiqué"
          ],
          [
           "Communiqué of the Development Committee"
          ],
          [
           "Group of 10 Communiqué"
          ],
          [
           "Communiqué of the Interim Committee of the Board of Governors of the International Monetary Fund"
          ],
          [
           "Group of 24 Communiqué"
          ],
          [
           "Communiqué of the Development Committee"
          ],
          [
           "Communiqué of the Interim Committee of the Board of Governors of the International Monetary Fund"
          ],
          [
           "Intergovernmental Group of Twenty-Four on International Monetary Affairs - Communiqué"
          ],
          [
           "Communiqué of the Meeting of Economic Policy Makers in the Western Hemisphere Region"
          ],
          [
           "Communiqué of the Interim Committee of the Board of Governors of the International Monetary Fund, IMF"
          ],
          [
           "Group of 10 Communiqué"
          ],
          [
           "Group of 24 Communiqué"
          ],
          [
           "Joint Communiqué of the Chairman of the Russian Federation and the Managing Director of the International Monetary Fund"
          ],
          [
           "Development Committee Communiqué"
          ],
          [
           "Group of Ten Communiqué"
          ],
          [
           "Communiqué of the Interim Committee of the Board of Governors of the International Monetary Fund"
          ],
          [
           "Group of Twenty Four Communiqué"
          ],
          [
           "Communiqué of the Ministers and Governors of the Group of Ten"
          ],
          [
           "Interim Committee Communiqué"
          ],
          [
           "Intergovernmental Group of Twenty-Four on International Monetary Affairs Communiqué"
          ]
         ],
         "hovertemplate": "Date=%{x}<br>Word Count=%{y}<br>Title=%{customdata[0]}<extra></extra>",
         "legendgroup": "",
         "line": {
          "color": "#636efa",
          "dash": "solid"
         },
         "marker": {
          "symbol": "circle"
         },
         "mode": "lines+markers",
         "name": "",
         "orientation": "v",
         "showlegend": false,
         "type": "scatter",
         "x": [
          "2024-10-22T00:00:00.000000000",
          "2024-04-16T00:00:00.000000000",
          "2023-10-10T00:00:00.000000000",
          "2023-04-11T00:00:00.000000000",
          "2022-10-11T00:00:00.000000000",
          "2022-04-19T00:00:00.000000000",
          "2021-10-14T00:00:00.000000000",
          "2021-10-11T00:00:00.000000000",
          "2021-04-08T00:00:00.000000000",
          "2021-04-08T00:00:00.000000000",
          "2021-04-05T00:00:00.000000000",
          "2020-10-15T00:00:00.000000000",
          "2020-10-15T00:00:00.000000000",
          "2020-10-13T00:00:00.000000000",
          "2020-04-16T00:00:00.000000000",
          "2020-04-14T00:00:00.000000000",
          "2019-10-19T00:00:00.000000000",
          "2019-10-19T00:00:00.000000000",
          "2019-10-17T00:00:00.000000000",
          "2019-04-13T00:00:00.000000000",
          "2019-04-11T00:00:00.000000000",
          "2018-10-13T00:00:00.000000000",
          "2018-10-13T00:00:00.000000000",
          "2018-10-11T00:00:00.000000000",
          "2018-04-21T00:00:00.000000000",
          "2018-04-19T00:00:00.000000000",
          "2017-10-14T00:00:00.000000000",
          "2017-10-12T00:00:00.000000000",
          "2017-04-22T00:00:00.000000000",
          "2017-04-20T00:00:00.000000000",
          "2016-10-08T00:00:00.000000000",
          "2016-10-06T00:00:00.000000000",
          "2016-04-16T00:00:00.000000000",
          "2016-04-16T00:00:00.000000000",
          "2016-04-15T00:00:00.000000000",
          "2016-04-14T00:00:00.000000000",
          "2015-10-10T00:00:00.000000000",
          "2015-10-09T00:00:00.000000000",
          "2015-10-08T00:00:00.000000000",
          "2015-04-18T00:00:00.000000000",
          "2015-04-18T00:00:00.000000000",
          "2015-04-16T00:00:00.000000000",
          "2014-10-11T00:00:00.000000000",
          "2014-10-11T00:00:00.000000000",
          "2014-10-09T00:00:00.000000000",
          "2014-04-12T00:00:00.000000000",
          "2014-04-12T00:00:00.000000000",
          "2014-04-10T00:00:00.000000000",
          "2013-10-12T00:00:00.000000000",
          "2013-10-12T00:00:00.000000000",
          "2013-10-10T00:00:00.000000000",
          "2013-04-20T00:00:00.000000000",
          "2013-04-20T00:00:00.000000000",
          "2013-04-18T00:00:00.000000000",
          "2012-10-13T00:00:00.000000000",
          "2012-10-13T00:00:00.000000000",
          "2012-10-11T00:00:00.000000000",
          "2012-04-21T00:00:00.000000000",
          "2012-04-21T00:00:00.000000000",
          "2012-04-19T00:00:00.000000000",
          "2011-09-24T00:00:00.000000000",
          "2011-09-24T00:00:00.000000000",
          "2011-09-22T00:00:00.000000000",
          "2011-04-16T00:00:00.000000000",
          "2011-04-16T00:00:00.000000000",
          "2011-04-14T00:00:00.000000000",
          "2010-10-09T00:00:00.000000000",
          "2010-10-09T00:00:00.000000000",
          "2010-10-07T00:00:00.000000000",
          "2010-04-25T00:00:00.000000000",
          "2010-04-24T00:00:00.000000000",
          "2010-04-22T00:00:00.000000000",
          "2009-10-04T00:00:00.000000000",
          "2009-10-03T00:00:00.000000000",
          "2009-06-23T00:00:00.000000000",
          "2009-05-20T00:00:00.000000000",
          "2009-04-26T00:00:00.000000000",
          "2009-04-25T00:00:00.000000000",
          "2009-04-24T00:00:00.000000000",
          "2009-04-07T00:00:00.000000000",
          "2009-03-29T00:00:00.000000000",
          "2009-03-27T00:00:00.000000000",
          "2009-03-26T00:00:00.000000000",
          "2008-10-15T00:00:00.000000000",
          "2008-10-12T00:00:00.000000000",
          "2008-10-11T00:00:00.000000000",
          "2008-10-10T00:00:00.000000000",
          "2008-04-13T00:00:00.000000000",
          "2008-04-12T00:00:00.000000000",
          "2008-04-11T00:00:00.000000000",
          "2007-10-21T00:00:00.000000000",
          "2007-10-20T00:00:00.000000000",
          "2007-10-20T00:00:00.000000000",
          "2007-10-19T00:00:00.000000000",
          "2007-04-15T00:00:00.000000000",
          "2007-04-14T00:00:00.000000000",
          "2007-04-13T00:00:00.000000000",
          "2007-02-02T00:00:00.000000000",
          "2006-09-19T00:00:00.000000000",
          "2006-09-17T00:00:00.000000000",
          "2006-09-16T00:00:00.000000000",
          "2006-04-22T00:00:00.000000000",
          "2006-04-21T00:00:00.000000000",
          "2005-11-22T00:00:00.000000000",
          "2005-09-25T00:00:00.000000000",
          "2005-09-25T00:00:00.000000000",
          "2005-09-24T00:00:00.000000000",
          "2005-09-23T00:00:00.000000000",
          "2005-04-16T00:00:00.000000000",
          "2005-04-15T00:00:00.000000000",
          "2004-10-03T00:00:00.000000000",
          "2004-10-02T00:00:00.000000000",
          "2004-10-02T00:00:00.000000000",
          "2004-10-01T00:00:00.000000000",
          "2004-04-25T00:00:00.000000000",
          "2004-04-24T00:00:00.000000000",
          "2004-04-23T00:00:00.000000000",
          "2003-09-22T00:00:00.000000000",
          "2003-09-21T00:00:00.000000000",
          "2003-09-21T00:00:00.000000000",
          "2003-09-20T00:00:00.000000000",
          "2003-04-13T00:00:00.000000000",
          "2003-04-12T00:00:00.000000000",
          "2003-04-11T00:00:00.000000000",
          "2002-09-28T00:00:00.000000000",
          "2002-09-28T00:00:00.000000000",
          "2002-09-27T00:00:00.000000000",
          "2002-09-27T00:00:00.000000000",
          "2002-05-16T00:00:00.000000000",
          "2002-04-21T00:00:00.000000000",
          "2002-04-21T00:00:00.000000000",
          "2002-04-20T00:00:00.000000000",
          "2002-04-20T00:00:00.000000000",
          "2001-11-18T00:00:00.000000000",
          "2001-11-17T00:00:00.000000000",
          "2001-11-14T00:00:00.000000000",
          "2001-04-30T00:00:00.000000000",
          "2001-04-29T00:00:00.000000000",
          "2001-04-29T00:00:00.000000000",
          "2001-04-29T00:00:00.000000000",
          "2001-04-28T00:00:00.000000000",
          "2000-09-25T00:00:00.000000000",
          "2000-09-24T00:00:00.000000000",
          "2000-09-24T00:00:00.000000000",
          "2000-09-24T00:00:00.000000000",
          "2000-09-23T00:00:00.000000000",
          "2000-04-17T00:00:00.000000000",
          "2000-04-16T00:00:00.000000000",
          "2000-04-15T00:00:00.000000000",
          "1999-09-27T00:00:00.000000000",
          "1999-09-26T00:00:00.000000000",
          "1999-09-26T00:00:00.000000000",
          "1999-09-26T00:00:00.000000000",
          "1999-09-25T00:00:00.000000000",
          "1999-04-28T00:00:00.000000000",
          "1999-04-27T00:00:00.000000000",
          "1999-04-27T00:00:00.000000000",
          "1999-04-26T00:00:00.000000000",
          "1998-10-05T00:00:00.000000000",
          "1998-10-04T00:00:00.000000000",
          "1998-10-03T00:00:00.000000000",
          "1998-09-03T00:00:00.000000000",
          "1998-04-16T00:00:00.000000000",
          "1998-04-16T00:00:00.000000000",
          "1998-04-15T00:00:00.000000000",
          "1998-02-19T00:00:00.000000000",
          "1997-09-22T00:00:00.000000000",
          "1997-09-21T00:00:00.000000000",
          "1997-09-21T00:00:00.000000000",
          "1997-09-20T00:00:00.000000000",
          "1997-04-28T00:00:00.000000000",
          "1997-04-28T00:00:00.000000000",
          "1997-04-27T00:00:00.000000000"
         ],
         "xaxis": "x",
         "y": {
          "bdata": "xQkAACYLAAC4CQAAOAEAAAQKAABLCAAA3gUAAK0HAAB8AQAAiAQAAIUHAAAtBAAAjQEAALgEAACKAgAAhQMAAPUDAABlAQAAVAgAAG0CAAAjCAAAhwEAAEIAAABZCAAAUwMAANoGAAC6BgAAvgcAAEsHAADDCAAAAAgAANoJAAAxBAAABgIAAOgLAADRCAAAEgQAAEsGAADRCAAAEgUAAMIEAAC/CQAAzgQAAGAEAABICQAAzgQAAJoKAADSBgAAtAQAADkEAACeBwAAQgQAAEIEAABKBwAAkgMAALwDAAD3CAAAGAQAAKwAAAAJCAAA8QIAAPcCAAAyBQAAOgMAAP4DAACzCQAAyAMAANQCAABvCgAADQMAAMAEAADQCAAAQwcAAJIRAACxAgAA9wIAALMCAABtBgAAoQgAAMYCAAAdBAAA3wEAAB0CAACNAQAA/wAAAH4LAABzLQAAqgUAAE4JAAAmCwAAogQAAPQAAADUCQAAggkAALoHAAAKCgAAJAsAAM8DAADHCAAAvQgAAMEGAACLCAAAewgAAHYDAACaBwAAGgIAAJIIAAAwCgAA8AkAAFAJAAAxAgAAZAoAAJEFAAC9CQAAYgUAANkJAAAlEQAAPgcAAGUBAAANCgAApgcAAEcGAACgCgAAdwkAAPcFAACcCAAA8goAAPMBAACbAQAA1gMAAM4BAACPCQAABgwAADUKAADqBgAAzgYAAAAAAADRBQAAbAEAAJoaAACGFwAAbwgAAMoVAACHAgAAUwkAAMgLAABrBwAAxBIAAKUIAAD3BgAAYw4AADgtAAD3AQAAZwoAAEYGAAB2AQAAHY0BAM4JAADJBgAAV+EAAJ+2AAANEQAArp4BALQFAAAmSwAARQcAAGcWAADnBwAAUgkAAFtcAACfDAAAJzsAAC2zAAA=",
          "dtype": "i4"
         },
         "yaxis": "y"
        }
       ],
       "layout": {
        "legend": {
         "tracegroupgap": 0
        },
        "template": {
         "data": {
          "bar": [
           {
            "error_x": {
             "color": "#2a3f5f"
            },
            "error_y": {
             "color": "#2a3f5f"
            },
            "marker": {
             "line": {
              "color": "#E5ECF6",
              "width": 0.5
             },
             "pattern": {
              "fillmode": "overlay",
              "size": 10,
              "solidity": 0.2
             }
            },
            "type": "bar"
           }
          ],
          "barpolar": [
           {
            "marker": {
             "line": {
              "color": "#E5ECF6",
              "width": 0.5
             },
             "pattern": {
              "fillmode": "overlay",
              "size": 10,
              "solidity": 0.2
             }
            },
            "type": "barpolar"
           }
          ],
          "carpet": [
           {
            "aaxis": {
             "endlinecolor": "#2a3f5f",
             "gridcolor": "white",
             "linecolor": "white",
             "minorgridcolor": "white",
             "startlinecolor": "#2a3f5f"
            },
            "baxis": {
             "endlinecolor": "#2a3f5f",
             "gridcolor": "white",
             "linecolor": "white",
             "minorgridcolor": "white",
             "startlinecolor": "#2a3f5f"
            },
            "type": "carpet"
           }
          ],
          "choropleth": [
           {
            "colorbar": {
             "outlinewidth": 0,
             "ticks": ""
            },
            "type": "choropleth"
           }
          ],
          "contour": [
           {
            "colorbar": {
             "outlinewidth": 0,
             "ticks": ""
            },
            "colorscale": [
             [
              0,
              "#0d0887"
             ],
             [
              0.1111111111111111,
              "#46039f"
             ],
             [
              0.2222222222222222,
              "#7201a8"
             ],
             [
              0.3333333333333333,
              "#9c179e"
             ],
             [
              0.4444444444444444,
              "#bd3786"
             ],
             [
              0.5555555555555556,
              "#d8576b"
             ],
             [
              0.6666666666666666,
              "#ed7953"
             ],
             [
              0.7777777777777778,
              "#fb9f3a"
             ],
             [
              0.8888888888888888,
              "#fdca26"
             ],
             [
              1,
              "#f0f921"
             ]
            ],
            "type": "contour"
           }
          ],
          "contourcarpet": [
           {
            "colorbar": {
             "outlinewidth": 0,
             "ticks": ""
            },
            "type": "contourcarpet"
           }
          ],
          "heatmap": [
           {
            "colorbar": {
             "outlinewidth": 0,
             "ticks": ""
            },
            "colorscale": [
             [
              0,
              "#0d0887"
             ],
             [
              0.1111111111111111,
              "#46039f"
             ],
             [
              0.2222222222222222,
              "#7201a8"
             ],
             [
              0.3333333333333333,
              "#9c179e"
             ],
             [
              0.4444444444444444,
              "#bd3786"
             ],
             [
              0.5555555555555556,
              "#d8576b"
             ],
             [
              0.6666666666666666,
              "#ed7953"
             ],
             [
              0.7777777777777778,
              "#fb9f3a"
             ],
             [
              0.8888888888888888,
              "#fdca26"
             ],
             [
              1,
              "#f0f921"
             ]
            ],
            "type": "heatmap"
           }
          ],
          "histogram": [
           {
            "marker": {
             "pattern": {
              "fillmode": "overlay",
              "size": 10,
              "solidity": 0.2
             }
            },
            "type": "histogram"
           }
          ],
          "histogram2d": [
           {
            "colorbar": {
             "outlinewidth": 0,
             "ticks": ""
            },
            "colorscale": [
             [
              0,
              "#0d0887"
             ],
             [
              0.1111111111111111,
              "#46039f"
             ],
             [
              0.2222222222222222,
              "#7201a8"
             ],
             [
              0.3333333333333333,
              "#9c179e"
             ],
             [
              0.4444444444444444,
              "#bd3786"
             ],
             [
              0.5555555555555556,
              "#d8576b"
             ],
             [
              0.6666666666666666,
              "#ed7953"
             ],
             [
              0.7777777777777778,
              "#fb9f3a"
             ],
             [
              0.8888888888888888,
              "#fdca26"
             ],
             [
              1,
              "#f0f921"
             ]
            ],
            "type": "histogram2d"
           }
          ],
          "histogram2dcontour": [
           {
            "colorbar": {
             "outlinewidth": 0,
             "ticks": ""
            },
            "colorscale": [
             [
              0,
              "#0d0887"
             ],
             [
              0.1111111111111111,
              "#46039f"
             ],
             [
              0.2222222222222222,
              "#7201a8"
             ],
             [
              0.3333333333333333,
              "#9c179e"
             ],
             [
              0.4444444444444444,
              "#bd3786"
             ],
             [
              0.5555555555555556,
              "#d8576b"
             ],
             [
              0.6666666666666666,
              "#ed7953"
             ],
             [
              0.7777777777777778,
              "#fb9f3a"
             ],
             [
              0.8888888888888888,
              "#fdca26"
             ],
             [
              1,
              "#f0f921"
             ]
            ],
            "type": "histogram2dcontour"
           }
          ],
          "mesh3d": [
           {
            "colorbar": {
             "outlinewidth": 0,
             "ticks": ""
            },
            "type": "mesh3d"
           }
          ],
          "parcoords": [
           {
            "line": {
             "colorbar": {
              "outlinewidth": 0,
              "ticks": ""
             }
            },
            "type": "parcoords"
           }
          ],
          "pie": [
           {
            "automargin": true,
            "type": "pie"
           }
          ],
          "scatter": [
           {
            "fillpattern": {
             "fillmode": "overlay",
             "size": 10,
             "solidity": 0.2
            },
            "type": "scatter"
           }
          ],
          "scatter3d": [
           {
            "line": {
             "colorbar": {
              "outlinewidth": 0,
              "ticks": ""
             }
            },
            "marker": {
             "colorbar": {
              "outlinewidth": 0,
              "ticks": ""
             }
            },
            "type": "scatter3d"
           }
          ],
          "scattercarpet": [
           {
            "marker": {
             "colorbar": {
              "outlinewidth": 0,
              "ticks": ""
             }
            },
            "type": "scattercarpet"
           }
          ],
          "scattergeo": [
           {
            "marker": {
             "colorbar": {
              "outlinewidth": 0,
              "ticks": ""
             }
            },
            "type": "scattergeo"
           }
          ],
          "scattergl": [
           {
            "marker": {
             "colorbar": {
              "outlinewidth": 0,
              "ticks": ""
             }
            },
            "type": "scattergl"
           }
          ],
          "scattermap": [
           {
            "marker": {
             "colorbar": {
              "outlinewidth": 0,
              "ticks": ""
             }
            },
            "type": "scattermap"
           }
          ],
          "scattermapbox": [
           {
            "marker": {
             "colorbar": {
              "outlinewidth": 0,
              "ticks": ""
             }
            },
            "type": "scattermapbox"
           }
          ],
          "scatterpolar": [
           {
            "marker": {
             "colorbar": {
              "outlinewidth": 0,
              "ticks": ""
             }
            },
            "type": "scatterpolar"
           }
          ],
          "scatterpolargl": [
           {
            "marker": {
             "colorbar": {
              "outlinewidth": 0,
              "ticks": ""
             }
            },
            "type": "scatterpolargl"
           }
          ],
          "scatterternary": [
           {
            "marker": {
             "colorbar": {
              "outlinewidth": 0,
              "ticks": ""
             }
            },
            "type": "scatterternary"
           }
          ],
          "surface": [
           {
            "colorbar": {
             "outlinewidth": 0,
             "ticks": ""
            },
            "colorscale": [
             [
              0,
              "#0d0887"
             ],
             [
              0.1111111111111111,
              "#46039f"
             ],
             [
              0.2222222222222222,
              "#7201a8"
             ],
             [
              0.3333333333333333,
              "#9c179e"
             ],
             [
              0.4444444444444444,
              "#bd3786"
             ],
             [
              0.5555555555555556,
              "#d8576b"
             ],
             [
              0.6666666666666666,
              "#ed7953"
             ],
             [
              0.7777777777777778,
              "#fb9f3a"
             ],
             [
              0.8888888888888888,
              "#fdca26"
             ],
             [
              1,
              "#f0f921"
             ]
            ],
            "type": "surface"
           }
          ],
          "table": [
           {
            "cells": {
             "fill": {
              "color": "#EBF0F8"
             },
             "line": {
              "color": "white"
             }
            },
            "header": {
             "fill": {
              "color": "#C8D4E3"
             },
             "line": {
              "color": "white"
             }
            },
            "type": "table"
           }
          ]
         },
         "layout": {
          "annotationdefaults": {
           "arrowcolor": "#2a3f5f",
           "arrowhead": 0,
           "arrowwidth": 1
          },
          "autotypenumbers": "strict",
          "coloraxis": {
           "colorbar": {
            "outlinewidth": 0,
            "ticks": ""
           }
          },
          "colorscale": {
           "diverging": [
            [
             0,
             "#8e0152"
            ],
            [
             0.1,
             "#c51b7d"
            ],
            [
             0.2,
             "#de77ae"
            ],
            [
             0.3,
             "#f1b6da"
            ],
            [
             0.4,
             "#fde0ef"
            ],
            [
             0.5,
             "#f7f7f7"
            ],
            [
             0.6,
             "#e6f5d0"
            ],
            [
             0.7,
             "#b8e186"
            ],
            [
             0.8,
             "#7fbc41"
            ],
            [
             0.9,
             "#4d9221"
            ],
            [
             1,
             "#276419"
            ]
           ],
           "sequential": [
            [
             0,
             "#0d0887"
            ],
            [
             0.1111111111111111,
             "#46039f"
            ],
            [
             0.2222222222222222,
             "#7201a8"
            ],
            [
             0.3333333333333333,
             "#9c179e"
            ],
            [
             0.4444444444444444,
             "#bd3786"
            ],
            [
             0.5555555555555556,
             "#d8576b"
            ],
            [
             0.6666666666666666,
             "#ed7953"
            ],
            [
             0.7777777777777778,
             "#fb9f3a"
            ],
            [
             0.8888888888888888,
             "#fdca26"
            ],
            [
             1,
             "#f0f921"
            ]
           ],
           "sequentialminus": [
            [
             0,
             "#0d0887"
            ],
            [
             0.1111111111111111,
             "#46039f"
            ],
            [
             0.2222222222222222,
             "#7201a8"
            ],
            [
             0.3333333333333333,
             "#9c179e"
            ],
            [
             0.4444444444444444,
             "#bd3786"
            ],
            [
             0.5555555555555556,
             "#d8576b"
            ],
            [
             0.6666666666666666,
             "#ed7953"
            ],
            [
             0.7777777777777778,
             "#fb9f3a"
            ],
            [
             0.8888888888888888,
             "#fdca26"
            ],
            [
             1,
             "#f0f921"
            ]
           ]
          },
          "colorway": [
           "#636efa",
           "#EF553B",
           "#00cc96",
           "#ab63fa",
           "#FFA15A",
           "#19d3f3",
           "#FF6692",
           "#B6E880",
           "#FF97FF",
           "#FECB52"
          ],
          "font": {
           "color": "#2a3f5f"
          },
          "geo": {
           "bgcolor": "white",
           "lakecolor": "white",
           "landcolor": "#E5ECF6",
           "showlakes": true,
           "showland": true,
           "subunitcolor": "white"
          },
          "hoverlabel": {
           "align": "left"
          },
          "hovermode": "closest",
          "mapbox": {
           "style": "light"
          },
          "paper_bgcolor": "white",
          "plot_bgcolor": "#E5ECF6",
          "polar": {
           "angularaxis": {
            "gridcolor": "white",
            "linecolor": "white",
            "ticks": ""
           },
           "bgcolor": "#E5ECF6",
           "radialaxis": {
            "gridcolor": "white",
            "linecolor": "white",
            "ticks": ""
           }
          },
          "scene": {
           "xaxis": {
            "backgroundcolor": "#E5ECF6",
            "gridcolor": "white",
            "gridwidth": 2,
            "linecolor": "white",
            "showbackground": true,
            "ticks": "",
            "zerolinecolor": "white"
           },
           "yaxis": {
            "backgroundcolor": "#E5ECF6",
            "gridcolor": "white",
            "gridwidth": 2,
            "linecolor": "white",
            "showbackground": true,
            "ticks": "",
            "zerolinecolor": "white"
           },
           "zaxis": {
            "backgroundcolor": "#E5ECF6",
            "gridcolor": "white",
            "gridwidth": 2,
            "linecolor": "white",
            "showbackground": true,
            "ticks": "",
            "zerolinecolor": "white"
           }
          },
          "shapedefaults": {
           "line": {
            "color": "#2a3f5f"
           }
          },
          "ternary": {
           "aaxis": {
            "gridcolor": "white",
            "linecolor": "white",
            "ticks": ""
           },
           "baxis": {
            "gridcolor": "white",
            "linecolor": "white",
            "ticks": ""
           },
           "bgcolor": "#E5ECF6",
           "caxis": {
            "gridcolor": "white",
            "linecolor": "white",
            "ticks": ""
           }
          },
          "title": {
           "x": 0.05
          },
          "xaxis": {
           "automargin": true,
           "gridcolor": "white",
           "linecolor": "white",
           "ticks": "",
           "title": {
            "standoff": 15
           },
           "zerolinecolor": "white",
           "zerolinewidth": 2
          },
          "yaxis": {
           "automargin": true,
           "gridcolor": "white",
           "linecolor": "white",
           "ticks": "",
           "title": {
            "standoff": 15
           },
           "zerolinecolor": "white",
           "zerolinewidth": 2
          }
         }
        },
        "title": {
         "text": "Word Count Over Time"
        },
        "xaxis": {
         "anchor": "y",
         "domain": [
          0,
          1
         ],
         "title": {
          "text": "Date"
         }
        },
        "yaxis": {
         "anchor": "x",
         "domain": [
          0,
          1
         ],
         "title": {
          "text": "Word Count"
         }
        }
       }
      }
     },
     "metadata": {},
     "output_type": "display_data"
    },
    {
     "data": {
      "application/vnd.plotly.v1+json": {
       "config": {
        "plotlyServerURL": "https://plot.ly"
       },
       "data": [
        {
         "customdata": [
          [
           "Intergovernmental Group of Twenty-Four on International Monetary Affairs and Development"
          ],
          [
           "Intergovernmental Group of Twenty-Four on International Monetary Affairs and Development"
          ],
          [
           "Intergovernmental Group of Twenty-Four on International Monetary Affairs and Development"
          ],
          [
           "Intergovernmental Group of Twenty-Four on International Monetary Affairs and Development"
          ],
          [
           "Intergovernmental Group of Twenty-Four on International Monetary Affairs and Development"
          ],
          [
           "Intergovernmental Group of Twenty-Four on International Monetary Affairs and Development"
          ],
          [
           "Communiqué of the Forty-Fourth Meeting of the IMFC"
          ],
          [
           "Intergovernmental Group of Twenty-Four on International Monetary Affairs and Development"
          ],
          [
           "Attendance List: Communiqué of the Forty-third Meeting of the IMFC"
          ],
          [
           "Communiqué of the Forty-third Meeting of the IMFC"
          ],
          [
           "Intergovernmental Group of Twenty-Four on International Monetary Affairs and Development"
          ],
          [
           "Communiqué of the Forty Second Meeting of the IMFC"
          ],
          [
           "International Monetary and Financial Committee: Attendance List"
          ],
          [
           "Intergovernmental Group of Twenty-Four on International Monetary Affairs and Development"
          ],
          [
           "Communiqué of the Forty First Meeting of the IMFC"
          ],
          [
           "Intergovernmental Group of Twenty-Four on International Monetary Affairs and Development"
          ],
          [
           "Communiqué of the Fortieth Meeting of the IMFC"
          ],
          [
           "International Monetary and Financial Committee: Attendance List"
          ],
          [
           "Intergovernmental Group of Twenty-Four on International Monetary Affairs and Development"
          ],
          [
           "Communiqué of the Thirty-Ninth Meeting of the IMFC"
          ],
          [
           "Intergovernmental Group of Twenty Four on International Monetary Affairs and Development"
          ],
          [
           "International Monetary and Financial Committee: Attendance List"
          ],
          [
           "Communiqué of the Thirty-Eighth Meeting of the IMFC"
          ],
          [
           "Intergovernmental Group of Twenty Four on International Monetary Affairs and Development"
          ],
          [
           "Communiqué of the Thirty-Seventh Meeting of the International Monetary and Financial Committee"
          ],
          [
           "Intergovernmental Group of Twenty-Four on International Monetary Affairs and Development"
          ],
          [
           "Communiqué of the Thirty-Sixth Meeting of the International Monetary and Financial Committee (IMFC)"
          ],
          [
           "Intergovernmental Group of Twenty-Four on International Monetary Affairs and Development"
          ],
          [
           "Communiqué of the Thirty-Fifth Meeting of the IMFC"
          ],
          [
           "Intergovernmental Group of Twenty-Four on International Monetary Affairs and Development"
          ],
          [
           "Communiqué of the Thirty-Fourth Meeting of the International Monetary and Financial Committee (IMFC)"
          ],
          [
           "Intergovernmental Group of Twenty-Four on International Monetary Affairs and Development"
          ],
          [
           "Development Committee Communiqué - World Bank/IMF Spring Meetings 2016"
          ],
          [
           "Communiqué of the Thirty-Third Meeting of the IMFC, Chaired by Mr. Agustín Carstens, Governor of the Bank of Mexico"
          ],
          [
           "Communiqué: G20 Finance Ministers and Central Bank Governors Meeting"
          ],
          [
           "Intergovernmental Group of Twenty-Four on International Monetary Affairs and Development Communiqué"
          ],
          [
           "Development Committee Communiqué, Annual Meetings October 10, 2015"
          ],
          [
           "Communiqué of the Thirty-Second Meeting of the International Monetary and Financial Committee (IMFC), October 9, 2015, Lima, Peru"
          ],
          [
           "Intergovermental Group of Twenty-Four on International Monetary Affairs and Development"
          ],
          [
           "Communiqué  of the Thirty-First Meeting of the International Monetary and Financial Committee (IMFC), April 18, 2015"
          ],
          [
           "Development Committee Communiqué, Spring Meetings April 18, 2015"
          ],
          [
           "Intergovermental Group of Twenty-Four on International Monetary Affairs and Development"
          ],
          [
           "Communiqué of the Thirtieth Meeting of the International Monetary and Financial Committee (IMFC)"
          ],
          [
           "Development Committee Communiqué, Annual Meetings"
          ],
          [
           "Intergovernmental Group of Twenty-Four on International Monetary Affairs and Development, Communiqué, October 9, 2014"
          ],
          [
           "Communiqué of the Twenty-Ninth Meeting of the International Monetary and Financial Committee (IMFC)"
          ],
          [
           "Development Committee Communiqué, Spring Meetings 2014, April 12, 2014"
          ],
          [
           "Intergovernmental Group of Twenty-Four on International Monetary Affairs and Development, Communiqué, April 10, 2014"
          ],
          [
           "Communiqué of the Twenty-Eighth Meeting of the International Monetary and Financial Committee, Chaired by Mr. Tharman Shanmugaratnam, Deputy Prime Minister of Singapore and Minister for Finance, Press Release No. 13/401, October 12, 2013"
          ],
          [
           "Communiqué: Development Committee"
          ],
          [
           "Intergovernmental Group of Twenty-Four on International Monetary Affairs and Development, Communiqué, October 10, 2013"
          ],
          [
           "Communiqué of the Twenty-Seventh Meeting of the International Monetary and Financial Committee (IMFC)"
          ],
          [
           "Communiqué: Development Committee"
          ],
          [
           "Intergovernmental Group of Twenty-Four on International Monetary Affairs and Development, Communiqué, April 18, 2013"
          ],
          [
           "Communiqué of the Twenty-Sixth Meeting of the International Financial and Monetary Committee (IMFC)"
          ],
          [
           "Development Committee Communiqué, Annual Meetings, Tokyo, October 13, 2012"
          ],
          [
           "Intergovernmental Group of Twenty-Four on International Monetary Affairs And Development Communiqué"
          ],
          [
           "Development Committee Communiqué, Spring Meetings, April 21, 2012"
          ],
          [
           "Communiqué of the Twenty-Fifth Meeting of the IMFC"
          ],
          [
           "Communiqué: Intergovernmental Group Of Twenty-Four On International Monetary Affairs And Development Communiqué"
          ],
          [
           "Communiqué of the Twenty-Fourth Meeting of the IMFC: Collective Action for Global Recovery, Chaired by Mr. Tharman Shanmugaratnam, Deputy Prime Minister of Singapore and Minister for Finance"
          ],
          [
           "Development Committee Communiqué, Annual Meetings, September 24, 2011"
          ],
          [
           "Communiqué: Intergovernmental Group Of Twenty-Four On International Monetary Affairs And Development Communiqué"
          ],
          [
           "Communiqué of the Twenty-Third Meeting of the International Monetary and Financial Committee of the Board of Governors of the International Monetary Fund, April 16, 2011"
          ],
          [
           "Development Committee Communiqué, Spring Meetings, April 16, 2011"
          ],
          [
           "Intergovernmental Group of Twenty-Four on International Monetary Affairs and Development Communiqué"
          ],
          [
           "Communiqué of the Twenty-Second Meeting of the International Monetary and Financial Committee of the Board of Governors of the International Monetary Fund"
          ],
          [
           "Development Committee Communiqué, Annual Meetings, October 09, 2010"
          ],
          [
           "Intergovernmental Group of Twenty-Four on International Monetary Affairs and Development Communiqué"
          ],
          [
           "Development Committee Communiqué, Spring Meetings, April 25, 2010"
          ],
          [
           "Communiqué of the Twenty-First Meeting of the International Monetary and Financial Committee of the Board of Governors of the International Monetary Fund"
          ],
          [
           "Intergovernmental Group of Twenty-Four on International Monetary Affairs and Development Communiqué"
          ],
          [
           "Communiqué of the International Monetary and Financial Committee of the Board of Governors of the International Monetary Fund"
          ],
          [
           "Intergovernmental Group of Twenty-Four on International Monetary Affairs and Development Communiqué"
          ],
          [
           "European Bank Coordination Meeting on Bosnia and Herzegovina -- Concluding Statement by Participating Banks"
          ],
          [
           "European Banking Group Coordination Meeting for Hungary, Concluding Statement by Participating Parent Banks"
          ],
          [
           "Development Committee Communiqué, Washington, DC, April 26, 2009"
          ],
          [
           "Communiqué of the International Monetary and Financial Committee of the Board of Governors of the International Monetary Fund"
          ],
          [
           "Intergovernmental Group of Twenty-Four on International Monetary Affairs and Development: Communiqué"
          ],
          [
           "Communiqué IMF-East AFRITAC 11th Steering Committee Meeting Concluded in Blantyre on April 7, 2009"
          ],
          [
           "Statement of the Intergovernmental Group of Twenty-Four (G-24) on International Monetary Affairs and Development"
          ],
          [
           "Financial Sector Coordination Meeting on Serbia, Concluding Statement by Participating Banks"
          ],
          [
           "Financial Sector Coordination Meeting on Romania, Concluding Statement by Participating Banks"
          ],
          [
           "G8 Leaders Statement on the Global Economy"
          ],
          [
           "Communiqué of the Group of Twenty (G-20) at the 2008 Annual Meetings of the IMF and World Bank"
          ],
          [
           "Communiqué of the International Monetary and Financial Committee of the Board of Governors of the International Monetary Fund"
          ],
          [
           "Intergovernmental Group of Twenty-Four on International Monetary Affairs and Development Communiqué, October 2008"
          ],
          [
           "Development Committee Communiqué, Washington, DC, April 13, 2008"
          ],
          [
           "Communiqué of the International Monetary and Financial Committee of the Board of Governors of the International Monetary Fund"
          ],
          [
           "Intergovernmental Group of Twenty-Four on International Monetary Affairs and Development Communiqué"
          ],
          [
           "Development Committee Communiqué"
          ],
          [
           "Communique of The Ministers and Governors of the Group of Ten"
          ],
          [
           "Communiqué of the International Monetary and Financial Committee of the Board of Governors of the International Monetary Fund"
          ],
          [
           "Intergovernmental Group of Twenty-Four on International Monetary Affairs and Development Communiqué"
          ],
          [
           "Development Committee Communiqué, Washington, DC, April 15, 2007"
          ],
          [
           "Communiqué of the International Monetary and Financial Committee of the Board of Governors of the International Monetary Fund"
          ],
          [
           "Intergovernmental Group of Twenty-Four on International Monetary Affairs and Development Communiqué"
          ],
          [
           "Communiqué at the Conclusion of the High-Level Conference on Investment in Central America"
          ],
          [
           "Development Committee Communiqué"
          ],
          [
           "Communiqué of the International Monetary and Financial Committee of the Board of Governors of the International Monetary Fund, September 17, 2006"
          ],
          [
           "Communiqué of the Intergovernmental Group of Twenty-Four on International Monetary Affairs and Development"
          ],
          [
           "Communiqué of the International Monetary and Financial Committee of the Board of Governors of the International Monetary Fund, April 22, 2006"
          ],
          [
           "Communiqué of the Intergovernmental Group of Twenty-Four on International Monetary Affairs and Development"
          ],
          [
           "Communiqué at the Conclusion of the Conference on Trade Facilitation in Algeria, Morocco, and Tunisia"
          ],
          [
           "Development Committee Communiqué, 2005 Annual Meetings"
          ],
          [
           "Communiqué of the Ministers and Governors of the Group of Ten, Washington DC, Annual Meetings 2005"
          ],
          [
           "Communiqué of the International Monetary and Financial Committee of the Board of Governors of the International Monetary Fund"
          ],
          [
           "Communiqué of the Intergovernmental Group of Twenty-Four on International Monetary Affairs and Development"
          ],
          [
           "Communiqué of the International Monetary and Financial Committee of the Board of Governors of the International Monetary Fund"
          ],
          [
           "Communiqué of the Intergovernmental Group of Twenty-Four on International Monetary Affairs and Development"
          ],
          [
           "Communiqué of the Ministers and Governors of the Group of Ten"
          ],
          [
           "Communiqué of the International Monetary and Financial Committee (IMFC) of the Board of Governors of the International Monetary Fund, October 2, 2004"
          ],
          [
           "Development Committee Communiqué"
          ],
          [
           "Communiqué of the Intergovernmental Group of Twenty-Four on International Monetary Affairs and Development"
          ],
          [
           "Development Committee - Communiqué"
          ],
          [
           "Communiqué of the International Monetary and Financial Committee of the Board of Governors of the International Monetary Fund"
          ],
          [
           "Communiqué of the Intergovernmental Group of Twenty-Four on International Monetary Affairs and Development"
          ],
          [
           "Development Committee - Communiqué"
          ],
          [
           "Communiqué of the Ministers and Governors of the Group of Ten, September 21, 2003"
          ],
          [
           "Communiqué of the International Monetary and Financial Committee of the Board of Governors of the International Monetary Fund"
          ],
          [
           "Communiqué of the Intergovernmental Group of Twenty-Four on International Monetary Affairs and Development"
          ],
          [
           "Development Committee - Communiqué"
          ],
          [
           "Communiqué of the International Monetary and Financial Committee of the Board of Governors of the International Monetary Fund"
          ],
          [
           "Intergovernmental Group of Twenty-Four Communiqué"
          ],
          [
           "Communiqué - Development Committee"
          ],
          [
           "Communiqué of the International Monetary and Financial Committee of the Board of Governors of the International Monetary Fund"
          ],
          [
           "Communiqué - Intergovernmental Group of Twenty-Four on International Monetary Affairs and Development"
          ],
          [
           "Communiqué of the Ministers and Governors of the Group of Ten"
          ],
          [
           "Joint Note on the Doha Development Agenda"
          ],
          [
           "Communiqué - Development Committee"
          ],
          [
           "Communiqué of the Ministers and Governors of the Group of Ten"
          ],
          [
           "Communiqué of the International Monetary and Financial Committee of the Board of Governors of the International Monetary Fund"
          ],
          [
           "Intergovernmental Group of Twenty-Four on International Monetary Affairs and Development - Communiqué"
          ],
          [
           "Communiqué of the Development Committee"
          ],
          [
           "Communiqué of the International Monetary and Financial Committee of the Board of Governors of the International Monetary Fund"
          ],
          [
           "Intergovernmental Group Of Twenty-Four On International Monetary Affairs and Development - Communiqué"
          ],
          [
           "Development Committee Communiqueué, Spring 2001"
          ],
          [
           "Communiqué -- Joint Session - IMFC and Development Committee"
          ],
          [
           "Communiqué of the Ministers and Governors of the Group of Ten"
          ],
          [
           "Communiqué of the International Monetary and Financial Committee of the Board of Governors of the International Monetary Fund"
          ],
          [
           "Intergovernmental Group Of Twenty-Four On International Monetary Affairs - Communiqué"
          ],
          [
           "Development Committee Communiqué"
          ],
          [
           "Communiqué of the International Monetary and Financial Committee of the Board of Governors of the International Monetary Fund"
          ],
          [
           "Group of 10 Communiqué"
          ],
          [
           "Communiqué of the Joint Session--IMFC and Development Committee on HIPC and PRSP Implementation"
          ],
          [
           "Group of 24 Communiqué"
          ],
          [
           "Communiqué of the Development Committee"
          ],
          [
           "Communiqué of the International Monetary and Financial Committee of the Board of Governors of the International Monetary Fund"
          ],
          [
           "Group of 24 Communiqué"
          ],
          [
           "Communiqué of the Development Committee"
          ],
          [
           "Joint Meeting of the Interim and Development Committees - Joint Statement by the Co-Chairmen"
          ],
          [
           "Communiqué of the Interim Committee of the Board of Governors of the International\r\nMonetary Fund"
          ],
          [
           "Group of 10 Communiqué"
          ],
          [
           "Group of 24 Communiqué"
          ],
          [
           "Communiqué of the Development Committee"
          ],
          [
           "Group of 10 Communiqué"
          ],
          [
           "Communiqué of the Interim Committee of the Board of Governors of the International Monetary Fund"
          ],
          [
           "Group of 24 Communiqué"
          ],
          [
           "Communiqué of the Development Committee"
          ],
          [
           "Communiqué of the Interim Committee of the Board of Governors of the International Monetary Fund"
          ],
          [
           "Intergovernmental Group of Twenty-Four on International Monetary Affairs - Communiqué"
          ],
          [
           "Communiqué of the Meeting of Economic Policy Makers in the Western Hemisphere Region"
          ],
          [
           "Communiqué of the Interim Committee of the Board of Governors of the International Monetary Fund, IMF"
          ],
          [
           "Group of 10 Communiqué"
          ],
          [
           "Group of 24 Communiqué"
          ],
          [
           "Joint Communiqué of the Chairman of the Russian Federation and the Managing Director of the International Monetary Fund"
          ],
          [
           "Development Committee Communiqué"
          ],
          [
           "Group of Ten Communiqué"
          ],
          [
           "Communiqué of the Interim Committee of the Board of Governors of the International Monetary Fund"
          ],
          [
           "Group of Twenty Four Communiqué"
          ],
          [
           "Communiqué of the Ministers and Governors of the Group of Ten"
          ],
          [
           "Interim Committee Communiqué"
          ],
          [
           "Intergovernmental Group of Twenty-Four on International Monetary Affairs Communiqué"
          ]
         ],
         "hovertemplate": "Date=%{x}<br>Sentence Count=%{y}<br>Title=%{customdata[0]}<extra></extra>",
         "legendgroup": "",
         "line": {
          "color": "#636efa",
          "dash": "solid"
         },
         "marker": {
          "symbol": "circle"
         },
         "mode": "lines+markers",
         "name": "",
         "orientation": "v",
         "showlegend": false,
         "type": "scatter",
         "x": [
          "2024-10-22T00:00:00.000000000",
          "2024-04-16T00:00:00.000000000",
          "2023-10-10T00:00:00.000000000",
          "2023-04-11T00:00:00.000000000",
          "2022-10-11T00:00:00.000000000",
          "2022-04-19T00:00:00.000000000",
          "2021-10-14T00:00:00.000000000",
          "2021-10-11T00:00:00.000000000",
          "2021-04-08T00:00:00.000000000",
          "2021-04-08T00:00:00.000000000",
          "2021-04-05T00:00:00.000000000",
          "2020-10-15T00:00:00.000000000",
          "2020-10-15T00:00:00.000000000",
          "2020-10-13T00:00:00.000000000",
          "2020-04-16T00:00:00.000000000",
          "2020-04-14T00:00:00.000000000",
          "2019-10-19T00:00:00.000000000",
          "2019-10-19T00:00:00.000000000",
          "2019-10-17T00:00:00.000000000",
          "2019-04-13T00:00:00.000000000",
          "2019-04-11T00:00:00.000000000",
          "2018-10-13T00:00:00.000000000",
          "2018-10-13T00:00:00.000000000",
          "2018-10-11T00:00:00.000000000",
          "2018-04-21T00:00:00.000000000",
          "2018-04-19T00:00:00.000000000",
          "2017-10-14T00:00:00.000000000",
          "2017-10-12T00:00:00.000000000",
          "2017-04-22T00:00:00.000000000",
          "2017-04-20T00:00:00.000000000",
          "2016-10-08T00:00:00.000000000",
          "2016-10-06T00:00:00.000000000",
          "2016-04-16T00:00:00.000000000",
          "2016-04-16T00:00:00.000000000",
          "2016-04-15T00:00:00.000000000",
          "2016-04-14T00:00:00.000000000",
          "2015-10-10T00:00:00.000000000",
          "2015-10-09T00:00:00.000000000",
          "2015-10-08T00:00:00.000000000",
          "2015-04-18T00:00:00.000000000",
          "2015-04-18T00:00:00.000000000",
          "2015-04-16T00:00:00.000000000",
          "2014-10-11T00:00:00.000000000",
          "2014-10-11T00:00:00.000000000",
          "2014-10-09T00:00:00.000000000",
          "2014-04-12T00:00:00.000000000",
          "2014-04-12T00:00:00.000000000",
          "2014-04-10T00:00:00.000000000",
          "2013-10-12T00:00:00.000000000",
          "2013-10-12T00:00:00.000000000",
          "2013-10-10T00:00:00.000000000",
          "2013-04-20T00:00:00.000000000",
          "2013-04-20T00:00:00.000000000",
          "2013-04-18T00:00:00.000000000",
          "2012-10-13T00:00:00.000000000",
          "2012-10-13T00:00:00.000000000",
          "2012-10-11T00:00:00.000000000",
          "2012-04-21T00:00:00.000000000",
          "2012-04-21T00:00:00.000000000",
          "2012-04-19T00:00:00.000000000",
          "2011-09-24T00:00:00.000000000",
          "2011-09-24T00:00:00.000000000",
          "2011-09-22T00:00:00.000000000",
          "2011-04-16T00:00:00.000000000",
          "2011-04-16T00:00:00.000000000",
          "2011-04-14T00:00:00.000000000",
          "2010-10-09T00:00:00.000000000",
          "2010-10-09T00:00:00.000000000",
          "2010-10-07T00:00:00.000000000",
          "2010-04-25T00:00:00.000000000",
          "2010-04-24T00:00:00.000000000",
          "2010-04-22T00:00:00.000000000",
          "2009-10-04T00:00:00.000000000",
          "2009-10-03T00:00:00.000000000",
          "2009-06-23T00:00:00.000000000",
          "2009-05-20T00:00:00.000000000",
          "2009-04-26T00:00:00.000000000",
          "2009-04-25T00:00:00.000000000",
          "2009-04-24T00:00:00.000000000",
          "2009-04-07T00:00:00.000000000",
          "2009-03-29T00:00:00.000000000",
          "2009-03-27T00:00:00.000000000",
          "2009-03-26T00:00:00.000000000",
          "2008-10-15T00:00:00.000000000",
          "2008-10-12T00:00:00.000000000",
          "2008-10-11T00:00:00.000000000",
          "2008-10-10T00:00:00.000000000",
          "2008-04-13T00:00:00.000000000",
          "2008-04-12T00:00:00.000000000",
          "2008-04-11T00:00:00.000000000",
          "2007-10-21T00:00:00.000000000",
          "2007-10-20T00:00:00.000000000",
          "2007-10-20T00:00:00.000000000",
          "2007-10-19T00:00:00.000000000",
          "2007-04-15T00:00:00.000000000",
          "2007-04-14T00:00:00.000000000",
          "2007-04-13T00:00:00.000000000",
          "2007-02-02T00:00:00.000000000",
          "2006-09-19T00:00:00.000000000",
          "2006-09-17T00:00:00.000000000",
          "2006-09-16T00:00:00.000000000",
          "2006-04-22T00:00:00.000000000",
          "2006-04-21T00:00:00.000000000",
          "2005-11-22T00:00:00.000000000",
          "2005-09-25T00:00:00.000000000",
          "2005-09-25T00:00:00.000000000",
          "2005-09-24T00:00:00.000000000",
          "2005-09-23T00:00:00.000000000",
          "2005-04-16T00:00:00.000000000",
          "2005-04-15T00:00:00.000000000",
          "2004-10-03T00:00:00.000000000",
          "2004-10-02T00:00:00.000000000",
          "2004-10-02T00:00:00.000000000",
          "2004-10-01T00:00:00.000000000",
          "2004-04-25T00:00:00.000000000",
          "2004-04-24T00:00:00.000000000",
          "2004-04-23T00:00:00.000000000",
          "2003-09-22T00:00:00.000000000",
          "2003-09-21T00:00:00.000000000",
          "2003-09-21T00:00:00.000000000",
          "2003-09-20T00:00:00.000000000",
          "2003-04-13T00:00:00.000000000",
          "2003-04-12T00:00:00.000000000",
          "2003-04-11T00:00:00.000000000",
          "2002-09-28T00:00:00.000000000",
          "2002-09-28T00:00:00.000000000",
          "2002-09-27T00:00:00.000000000",
          "2002-09-27T00:00:00.000000000",
          "2002-05-16T00:00:00.000000000",
          "2002-04-21T00:00:00.000000000",
          "2002-04-21T00:00:00.000000000",
          "2002-04-20T00:00:00.000000000",
          "2002-04-20T00:00:00.000000000",
          "2001-11-18T00:00:00.000000000",
          "2001-11-17T00:00:00.000000000",
          "2001-11-14T00:00:00.000000000",
          "2001-04-30T00:00:00.000000000",
          "2001-04-29T00:00:00.000000000",
          "2001-04-29T00:00:00.000000000",
          "2001-04-29T00:00:00.000000000",
          "2001-04-28T00:00:00.000000000",
          "2000-09-25T00:00:00.000000000",
          "2000-09-24T00:00:00.000000000",
          "2000-09-24T00:00:00.000000000",
          "2000-09-24T00:00:00.000000000",
          "2000-09-23T00:00:00.000000000",
          "2000-04-17T00:00:00.000000000",
          "2000-04-16T00:00:00.000000000",
          "2000-04-15T00:00:00.000000000",
          "1999-09-27T00:00:00.000000000",
          "1999-09-26T00:00:00.000000000",
          "1999-09-26T00:00:00.000000000",
          "1999-09-26T00:00:00.000000000",
          "1999-09-25T00:00:00.000000000",
          "1999-04-28T00:00:00.000000000",
          "1999-04-27T00:00:00.000000000",
          "1999-04-27T00:00:00.000000000",
          "1999-04-26T00:00:00.000000000",
          "1998-10-05T00:00:00.000000000",
          "1998-10-04T00:00:00.000000000",
          "1998-10-03T00:00:00.000000000",
          "1998-09-03T00:00:00.000000000",
          "1998-04-16T00:00:00.000000000",
          "1998-04-16T00:00:00.000000000",
          "1998-04-15T00:00:00.000000000",
          "1998-02-19T00:00:00.000000000",
          "1997-09-22T00:00:00.000000000",
          "1997-09-21T00:00:00.000000000",
          "1997-09-21T00:00:00.000000000",
          "1997-09-20T00:00:00.000000000",
          "1997-04-28T00:00:00.000000000",
          "1997-04-28T00:00:00.000000000",
          "1997-04-27T00:00:00.000000000"
         ],
         "xaxis": "x",
         "y": {
          "bdata": "bwB6AGoADQBwAGYAPwBVAAMAMwBWADEAAwA8AB8ALQA0AAMAbQAiAGcAAwAGAGMAKQBJAEsAawBNAG8AUwBlADwAJQCmAG0APQBJAHUARwA6AIAAQgBBAHwARQCCAF0AQQA0AGgARAA+AFcAPwAyAG8AQQAQAGIAKgAvAE0AMwAyAHYAOAAvAIsAOQAzAH0ASwDcABcAGgApAEQAYwAdADAAFQAVAA0ACgCDACgCSwBgAIkARgANAHAAhQBiAHMAkgAXAGIAYABWAGAAawArAFcAFgBlAJAAeACAABkAfgBGAIMARACDAPsAWwASAH4AdQBIAIMAiQBGAGUAmAAZABUAOAAcAHoAjwCGAFIAYwAAAD4AFQA+ATcBXwD6ACwAZgCnAFIA2QB2AFIAwgCDAhkAnQBPABIAcw+MAGAACwkqB+sAsiRQAMwDRwBUAYwAdQDJBKQACAPuCg==",
          "dtype": "i2"
         },
         "yaxis": "y"
        }
       ],
       "layout": {
        "legend": {
         "tracegroupgap": 0
        },
        "template": {
         "data": {
          "bar": [
           {
            "error_x": {
             "color": "#2a3f5f"
            },
            "error_y": {
             "color": "#2a3f5f"
            },
            "marker": {
             "line": {
              "color": "#E5ECF6",
              "width": 0.5
             },
             "pattern": {
              "fillmode": "overlay",
              "size": 10,
              "solidity": 0.2
             }
            },
            "type": "bar"
           }
          ],
          "barpolar": [
           {
            "marker": {
             "line": {
              "color": "#E5ECF6",
              "width": 0.5
             },
             "pattern": {
              "fillmode": "overlay",
              "size": 10,
              "solidity": 0.2
             }
            },
            "type": "barpolar"
           }
          ],
          "carpet": [
           {
            "aaxis": {
             "endlinecolor": "#2a3f5f",
             "gridcolor": "white",
             "linecolor": "white",
             "minorgridcolor": "white",
             "startlinecolor": "#2a3f5f"
            },
            "baxis": {
             "endlinecolor": "#2a3f5f",
             "gridcolor": "white",
             "linecolor": "white",
             "minorgridcolor": "white",
             "startlinecolor": "#2a3f5f"
            },
            "type": "carpet"
           }
          ],
          "choropleth": [
           {
            "colorbar": {
             "outlinewidth": 0,
             "ticks": ""
            },
            "type": "choropleth"
           }
          ],
          "contour": [
           {
            "colorbar": {
             "outlinewidth": 0,
             "ticks": ""
            },
            "colorscale": [
             [
              0,
              "#0d0887"
             ],
             [
              0.1111111111111111,
              "#46039f"
             ],
             [
              0.2222222222222222,
              "#7201a8"
             ],
             [
              0.3333333333333333,
              "#9c179e"
             ],
             [
              0.4444444444444444,
              "#bd3786"
             ],
             [
              0.5555555555555556,
              "#d8576b"
             ],
             [
              0.6666666666666666,
              "#ed7953"
             ],
             [
              0.7777777777777778,
              "#fb9f3a"
             ],
             [
              0.8888888888888888,
              "#fdca26"
             ],
             [
              1,
              "#f0f921"
             ]
            ],
            "type": "contour"
           }
          ],
          "contourcarpet": [
           {
            "colorbar": {
             "outlinewidth": 0,
             "ticks": ""
            },
            "type": "contourcarpet"
           }
          ],
          "heatmap": [
           {
            "colorbar": {
             "outlinewidth": 0,
             "ticks": ""
            },
            "colorscale": [
             [
              0,
              "#0d0887"
             ],
             [
              0.1111111111111111,
              "#46039f"
             ],
             [
              0.2222222222222222,
              "#7201a8"
             ],
             [
              0.3333333333333333,
              "#9c179e"
             ],
             [
              0.4444444444444444,
              "#bd3786"
             ],
             [
              0.5555555555555556,
              "#d8576b"
             ],
             [
              0.6666666666666666,
              "#ed7953"
             ],
             [
              0.7777777777777778,
              "#fb9f3a"
             ],
             [
              0.8888888888888888,
              "#fdca26"
             ],
             [
              1,
              "#f0f921"
             ]
            ],
            "type": "heatmap"
           }
          ],
          "histogram": [
           {
            "marker": {
             "pattern": {
              "fillmode": "overlay",
              "size": 10,
              "solidity": 0.2
             }
            },
            "type": "histogram"
           }
          ],
          "histogram2d": [
           {
            "colorbar": {
             "outlinewidth": 0,
             "ticks": ""
            },
            "colorscale": [
             [
              0,
              "#0d0887"
             ],
             [
              0.1111111111111111,
              "#46039f"
             ],
             [
              0.2222222222222222,
              "#7201a8"
             ],
             [
              0.3333333333333333,
              "#9c179e"
             ],
             [
              0.4444444444444444,
              "#bd3786"
             ],
             [
              0.5555555555555556,
              "#d8576b"
             ],
             [
              0.6666666666666666,
              "#ed7953"
             ],
             [
              0.7777777777777778,
              "#fb9f3a"
             ],
             [
              0.8888888888888888,
              "#fdca26"
             ],
             [
              1,
              "#f0f921"
             ]
            ],
            "type": "histogram2d"
           }
          ],
          "histogram2dcontour": [
           {
            "colorbar": {
             "outlinewidth": 0,
             "ticks": ""
            },
            "colorscale": [
             [
              0,
              "#0d0887"
             ],
             [
              0.1111111111111111,
              "#46039f"
             ],
             [
              0.2222222222222222,
              "#7201a8"
             ],
             [
              0.3333333333333333,
              "#9c179e"
             ],
             [
              0.4444444444444444,
              "#bd3786"
             ],
             [
              0.5555555555555556,
              "#d8576b"
             ],
             [
              0.6666666666666666,
              "#ed7953"
             ],
             [
              0.7777777777777778,
              "#fb9f3a"
             ],
             [
              0.8888888888888888,
              "#fdca26"
             ],
             [
              1,
              "#f0f921"
             ]
            ],
            "type": "histogram2dcontour"
           }
          ],
          "mesh3d": [
           {
            "colorbar": {
             "outlinewidth": 0,
             "ticks": ""
            },
            "type": "mesh3d"
           }
          ],
          "parcoords": [
           {
            "line": {
             "colorbar": {
              "outlinewidth": 0,
              "ticks": ""
             }
            },
            "type": "parcoords"
           }
          ],
          "pie": [
           {
            "automargin": true,
            "type": "pie"
           }
          ],
          "scatter": [
           {
            "fillpattern": {
             "fillmode": "overlay",
             "size": 10,
             "solidity": 0.2
            },
            "type": "scatter"
           }
          ],
          "scatter3d": [
           {
            "line": {
             "colorbar": {
              "outlinewidth": 0,
              "ticks": ""
             }
            },
            "marker": {
             "colorbar": {
              "outlinewidth": 0,
              "ticks": ""
             }
            },
            "type": "scatter3d"
           }
          ],
          "scattercarpet": [
           {
            "marker": {
             "colorbar": {
              "outlinewidth": 0,
              "ticks": ""
             }
            },
            "type": "scattercarpet"
           }
          ],
          "scattergeo": [
           {
            "marker": {
             "colorbar": {
              "outlinewidth": 0,
              "ticks": ""
             }
            },
            "type": "scattergeo"
           }
          ],
          "scattergl": [
           {
            "marker": {
             "colorbar": {
              "outlinewidth": 0,
              "ticks": ""
             }
            },
            "type": "scattergl"
           }
          ],
          "scattermap": [
           {
            "marker": {
             "colorbar": {
              "outlinewidth": 0,
              "ticks": ""
             }
            },
            "type": "scattermap"
           }
          ],
          "scattermapbox": [
           {
            "marker": {
             "colorbar": {
              "outlinewidth": 0,
              "ticks": ""
             }
            },
            "type": "scattermapbox"
           }
          ],
          "scatterpolar": [
           {
            "marker": {
             "colorbar": {
              "outlinewidth": 0,
              "ticks": ""
             }
            },
            "type": "scatterpolar"
           }
          ],
          "scatterpolargl": [
           {
            "marker": {
             "colorbar": {
              "outlinewidth": 0,
              "ticks": ""
             }
            },
            "type": "scatterpolargl"
           }
          ],
          "scatterternary": [
           {
            "marker": {
             "colorbar": {
              "outlinewidth": 0,
              "ticks": ""
             }
            },
            "type": "scatterternary"
           }
          ],
          "surface": [
           {
            "colorbar": {
             "outlinewidth": 0,
             "ticks": ""
            },
            "colorscale": [
             [
              0,
              "#0d0887"
             ],
             [
              0.1111111111111111,
              "#46039f"
             ],
             [
              0.2222222222222222,
              "#7201a8"
             ],
             [
              0.3333333333333333,
              "#9c179e"
             ],
             [
              0.4444444444444444,
              "#bd3786"
             ],
             [
              0.5555555555555556,
              "#d8576b"
             ],
             [
              0.6666666666666666,
              "#ed7953"
             ],
             [
              0.7777777777777778,
              "#fb9f3a"
             ],
             [
              0.8888888888888888,
              "#fdca26"
             ],
             [
              1,
              "#f0f921"
             ]
            ],
            "type": "surface"
           }
          ],
          "table": [
           {
            "cells": {
             "fill": {
              "color": "#EBF0F8"
             },
             "line": {
              "color": "white"
             }
            },
            "header": {
             "fill": {
              "color": "#C8D4E3"
             },
             "line": {
              "color": "white"
             }
            },
            "type": "table"
           }
          ]
         },
         "layout": {
          "annotationdefaults": {
           "arrowcolor": "#2a3f5f",
           "arrowhead": 0,
           "arrowwidth": 1
          },
          "autotypenumbers": "strict",
          "coloraxis": {
           "colorbar": {
            "outlinewidth": 0,
            "ticks": ""
           }
          },
          "colorscale": {
           "diverging": [
            [
             0,
             "#8e0152"
            ],
            [
             0.1,
             "#c51b7d"
            ],
            [
             0.2,
             "#de77ae"
            ],
            [
             0.3,
             "#f1b6da"
            ],
            [
             0.4,
             "#fde0ef"
            ],
            [
             0.5,
             "#f7f7f7"
            ],
            [
             0.6,
             "#e6f5d0"
            ],
            [
             0.7,
             "#b8e186"
            ],
            [
             0.8,
             "#7fbc41"
            ],
            [
             0.9,
             "#4d9221"
            ],
            [
             1,
             "#276419"
            ]
           ],
           "sequential": [
            [
             0,
             "#0d0887"
            ],
            [
             0.1111111111111111,
             "#46039f"
            ],
            [
             0.2222222222222222,
             "#7201a8"
            ],
            [
             0.3333333333333333,
             "#9c179e"
            ],
            [
             0.4444444444444444,
             "#bd3786"
            ],
            [
             0.5555555555555556,
             "#d8576b"
            ],
            [
             0.6666666666666666,
             "#ed7953"
            ],
            [
             0.7777777777777778,
             "#fb9f3a"
            ],
            [
             0.8888888888888888,
             "#fdca26"
            ],
            [
             1,
             "#f0f921"
            ]
           ],
           "sequentialminus": [
            [
             0,
             "#0d0887"
            ],
            [
             0.1111111111111111,
             "#46039f"
            ],
            [
             0.2222222222222222,
             "#7201a8"
            ],
            [
             0.3333333333333333,
             "#9c179e"
            ],
            [
             0.4444444444444444,
             "#bd3786"
            ],
            [
             0.5555555555555556,
             "#d8576b"
            ],
            [
             0.6666666666666666,
             "#ed7953"
            ],
            [
             0.7777777777777778,
             "#fb9f3a"
            ],
            [
             0.8888888888888888,
             "#fdca26"
            ],
            [
             1,
             "#f0f921"
            ]
           ]
          },
          "colorway": [
           "#636efa",
           "#EF553B",
           "#00cc96",
           "#ab63fa",
           "#FFA15A",
           "#19d3f3",
           "#FF6692",
           "#B6E880",
           "#FF97FF",
           "#FECB52"
          ],
          "font": {
           "color": "#2a3f5f"
          },
          "geo": {
           "bgcolor": "white",
           "lakecolor": "white",
           "landcolor": "#E5ECF6",
           "showlakes": true,
           "showland": true,
           "subunitcolor": "white"
          },
          "hoverlabel": {
           "align": "left"
          },
          "hovermode": "closest",
          "mapbox": {
           "style": "light"
          },
          "paper_bgcolor": "white",
          "plot_bgcolor": "#E5ECF6",
          "polar": {
           "angularaxis": {
            "gridcolor": "white",
            "linecolor": "white",
            "ticks": ""
           },
           "bgcolor": "#E5ECF6",
           "radialaxis": {
            "gridcolor": "white",
            "linecolor": "white",
            "ticks": ""
           }
          },
          "scene": {
           "xaxis": {
            "backgroundcolor": "#E5ECF6",
            "gridcolor": "white",
            "gridwidth": 2,
            "linecolor": "white",
            "showbackground": true,
            "ticks": "",
            "zerolinecolor": "white"
           },
           "yaxis": {
            "backgroundcolor": "#E5ECF6",
            "gridcolor": "white",
            "gridwidth": 2,
            "linecolor": "white",
            "showbackground": true,
            "ticks": "",
            "zerolinecolor": "white"
           },
           "zaxis": {
            "backgroundcolor": "#E5ECF6",
            "gridcolor": "white",
            "gridwidth": 2,
            "linecolor": "white",
            "showbackground": true,
            "ticks": "",
            "zerolinecolor": "white"
           }
          },
          "shapedefaults": {
           "line": {
            "color": "#2a3f5f"
           }
          },
          "ternary": {
           "aaxis": {
            "gridcolor": "white",
            "linecolor": "white",
            "ticks": ""
           },
           "baxis": {
            "gridcolor": "white",
            "linecolor": "white",
            "ticks": ""
           },
           "bgcolor": "#E5ECF6",
           "caxis": {
            "gridcolor": "white",
            "linecolor": "white",
            "ticks": ""
           }
          },
          "title": {
           "x": 0.05
          },
          "xaxis": {
           "automargin": true,
           "gridcolor": "white",
           "linecolor": "white",
           "ticks": "",
           "title": {
            "standoff": 15
           },
           "zerolinecolor": "white",
           "zerolinewidth": 2
          },
          "yaxis": {
           "automargin": true,
           "gridcolor": "white",
           "linecolor": "white",
           "ticks": "",
           "title": {
            "standoff": 15
           },
           "zerolinecolor": "white",
           "zerolinewidth": 2
          }
         }
        },
        "title": {
         "text": "Sentence Count Over Time"
        },
        "xaxis": {
         "anchor": "y",
         "domain": [
          0,
          1
         ],
         "title": {
          "text": "Date"
         }
        },
        "yaxis": {
         "anchor": "x",
         "domain": [
          0,
          1
         ],
         "title": {
          "text": "Sentence Count"
         }
        }
       }
      }
     },
     "metadata": {},
     "output_type": "display_data"
    }
   ],
   "source": [
    "# Ensure 'Date' column is in datetime format\n",
    "df['Date'] = pd.to_datetime(df['Date'])\n",
    "\n",
    "def count_words(text):\n",
    "    return len(text.split()) if isinstance(text, str) else 0\n",
    "\n",
    "def count_sentences(text):\n",
    "    return text.count('.') + text.count('!') + text.count('?') if isinstance(text, str) else 0\n",
    "\n",
    "# Calculate word and sentence counts\n",
    "df['Word Count'] = df['Subtext'].apply(count_words)\n",
    "df['Sentence Count'] = df['Subtext'].apply(count_sentences)\n",
    "\n",
    "# Plot Word Count over time\n",
    "fig1 = px.line(df, x='Date', y='Word Count', title='Word Count Over Time', \n",
    "               hover_data=['Title'], markers=True)\n",
    "fig1.show()\n",
    "\n",
    "# Plot Sentence Count over time\n",
    "fig2 = px.line(df, x='Date', y='Sentence Count', title='Sentence Count Over Time', \n",
    "               hover_data=['Title'], markers=True)\n",
    "fig2.show()"
   ]
  }
 ],
 "metadata": {
  "kernelspec": {
   "display_name": "Python 3",
   "language": "python",
   "name": "python3"
  },
  "language_info": {
   "codemirror_mode": {
    "name": "ipython",
    "version": 3
   },
   "file_extension": ".py",
   "mimetype": "text/x-python",
   "name": "python",
   "nbconvert_exporter": "python",
   "pygments_lexer": "ipython3",
   "version": "3.13.1"
  }
 },
 "nbformat": 4,
 "nbformat_minor": 2
}
