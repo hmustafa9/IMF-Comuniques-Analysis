{
 "cells": [
  {
   "cell_type": "code",
   "execution_count": 12,
   "metadata": {},
   "outputs": [],
   "source": [
    "import os\n",
    "import pandas as pd\n",
    "import requests\n",
    "from PyPDF2 import PdfReader\n",
    "from io import BytesIO"
   ]
  },
  {
   "cell_type": "code",
   "execution_count": 13,
   "metadata": {},
   "outputs": [],
   "source": [
    "# Load your DataFrame (assuming it has 'date', 'year', and 'link' columns)\n",
    "df = pd.read_csv('imf_statements_links.csv')\n",
    "# Remove repeated 'https://meetings.imf.org' in Link column\n",
    "df['Link'] = df['Link'].str.replace(r'(https://meetings.imf.org)+', 'https://meetings.imf.org', regex=True)"
   ]
  },
  {
   "cell_type": "code",
   "execution_count": 15,
   "metadata": {},
   "outputs": [
    {
     "name": "stdout",
     "output_type": "stream",
     "text": [
      "Error downloading https://meetings.imf.org/en/sitecore/media-library/AMSM/Files/AM2021/IMFC/India: 404 Client Error: Not Found for url: https://meetings.imf.org/external/error.htm\n",
      "Error downloading https://meetings.imf.orghttps://www.imf.org/~/media/AMSM/Files/AM2020/IMFC/cog.pdf?la=en: HTTPSConnectionPool(host='meetings.imf.orghttps', port=443): Max retries exceeded with url: /www.imf.org/~/media/AMSM/Files/AM2020/IMFC/cog.pdf?la=en (Caused by NameResolutionError(\"<urllib3.connection.HTTPSConnection object at 0x00000222FD0D8050>: Failed to resolve 'meetings.imf.orghttps' ([Errno 11001] getaddrinfo failed)\"))\n",
      "Error downloading https://meetings.imf.orghttps://www.imf.org/~/media/AMSM/Files/AM2020/IMFC/cogf.pdf?la=en: HTTPSConnectionPool(host='meetings.imf.orghttps', port=443): Max retries exceeded with url: /www.imf.org/~/media/AMSM/Files/AM2020/IMFC/cogf.pdf?la=en (Caused by NameResolutionError(\"<urllib3.connection.HTTPSConnection object at 0x00000222FD0D8550>: Failed to resolve 'meetings.imf.orghttps' ([Errno 11001] getaddrinfo failed)\"))\n",
      "Error downloading https://meetings.imf.orghttps://www.imf.org/~/media/AMSM/Files/AM2019/IMFC/com.pdf?la=en: HTTPSConnectionPool(host='meetings.imf.orghttps', port=443): Max retries exceeded with url: /www.imf.org/~/media/AMSM/Files/AM2019/IMFC/com.pdf?la=en (Caused by NameResolutionError(\"<urllib3.connection.HTTPSConnection object at 0x00000222FD0D8910>: Failed to resolve 'meetings.imf.orghttps' ([Errno 11001] getaddrinfo failed)\"))\n",
      "Error downloading https://meetings.imf.orghttps://www.imf.org/~/media/AMSM/Files/AM2019/IMFC/comf.pdf?la=en: HTTPSConnectionPool(host='meetings.imf.orghttps', port=443): Max retries exceeded with url: /www.imf.org/~/media/AMSM/Files/AM2019/IMFC/comf.pdf?la=en (Caused by NameResolutionError(\"<urllib3.connection.HTTPSConnection object at 0x00000222FD0D8CD0>: Failed to resolve 'meetings.imf.orghttps' ([Errno 11001] getaddrinfo failed)\"))\n",
      "Error downloading https://meetings.imf.orghttps://www.imf.org/~/media/AMSM/Files/AM2018/IMFC/fra.pdf?la=en: HTTPSConnectionPool(host='meetings.imf.orghttps', port=443): Max retries exceeded with url: /www.imf.org/~/media/AMSM/Files/AM2018/IMFC/fra.pdf?la=en (Caused by NameResolutionError(\"<urllib3.connection.HTTPSConnection object at 0x00000222FD0D9090>: Failed to resolve 'meetings.imf.orghttps' ([Errno 11001] getaddrinfo failed)\"))\n",
      "Error downloading https://meetings.imf.orghttps://www.imf.org/~/media/AMSM/Files/AM2018/IMFC/fraf.pdf?la=en: HTTPSConnectionPool(host='meetings.imf.orghttps', port=443): Max retries exceeded with url: /www.imf.org/~/media/AMSM/Files/AM2018/IMFC/fraf.pdf?la=en (Caused by NameResolutionError(\"<urllib3.connection.HTTPSConnection object at 0x00000222FD0D9450>: Failed to resolve 'meetings.imf.orghttps' ([Errno 11001] getaddrinfo failed)\"))\n",
      "Error downloading https://meetings.imf.orghttps://www.imf.org/~/media/AMSM/Files/AM2018/IMFC/cod.pdf?la=en: HTTPSConnectionPool(host='meetings.imf.orghttps', port=443): Max retries exceeded with url: /www.imf.org/~/media/AMSM/Files/AM2018/IMFC/cod.pdf?la=en (Caused by NameResolutionError(\"<urllib3.connection.HTTPSConnection object at 0x00000222FD0D9810>: Failed to resolve 'meetings.imf.orghttps' ([Errno 11001] getaddrinfo failed)\"))\n",
      "Error downloading https://meetings.imf.orghttps://www.imf.org/~/media/AMSM/Files/AM2018/IMFC/codf.pdf?la=en: HTTPSConnectionPool(host='meetings.imf.orghttps', port=443): Max retries exceeded with url: /www.imf.org/~/media/AMSM/Files/AM2018/IMFC/codf.pdf?la=en (Caused by NameResolutionError(\"<urllib3.connection.HTTPSConnection object at 0x00000222FD0D9BD0>: Failed to resolve 'meetings.imf.orghttps' ([Errno 11001] getaddrinfo failed)\"))\n"
     ]
    },
    {
     "ename": "FileNotFoundError",
     "evalue": "[Errno 2] No such file or directory: 'data\\\\2016\\\\IMFC Statement by Rosine Coulibaly/Sori, Minister of Economy, Finance and Development, Burkina Faso.pdf'",
     "output_type": "error",
     "traceback": [
      "\u001b[1;31m---------------------------------------------------------------------------\u001b[0m",
      "\u001b[1;31mFileNotFoundError\u001b[0m                         Traceback (most recent call last)",
      "Cell \u001b[1;32mIn[15], line 79\u001b[0m\n\u001b[0;32m     76\u001b[0m     \u001b[38;5;28;01mreturn\u001b[39;00m df\n\u001b[0;32m     78\u001b[0m \u001b[38;5;66;03m# Assuming df is your input DataFrame\u001b[39;00m\n\u001b[1;32m---> 79\u001b[0m processed_df \u001b[38;5;241m=\u001b[39m \u001b[43mprocess_dataframe\u001b[49m\u001b[43m(\u001b[49m\u001b[43mdf\u001b[49m\u001b[43m)\u001b[49m\n\u001b[0;32m     81\u001b[0m \u001b[38;5;66;03m# Save the updated dataframe\u001b[39;00m\n\u001b[0;32m     82\u001b[0m processed_df\u001b[38;5;241m.\u001b[39mto_csv(\u001b[38;5;124m\"\u001b[39m\u001b[38;5;124mprocessed_data.csv\u001b[39m\u001b[38;5;124m\"\u001b[39m, index\u001b[38;5;241m=\u001b[39m\u001b[38;5;28;01mFalse\u001b[39;00m)\n",
      "Cell \u001b[1;32mIn[15], line 71\u001b[0m, in \u001b[0;36mprocess_dataframe\u001b[1;34m(df)\u001b[0m\n\u001b[0;32m     69\u001b[0m \u001b[38;5;28;01mdef\u001b[39;00m\u001b[38;5;250m \u001b[39m\u001b[38;5;21mprocess_dataframe\u001b[39m(df):\n\u001b[0;32m     70\u001b[0m     \u001b[38;5;66;03m# Step 1: Download files\u001b[39;00m\n\u001b[1;32m---> 71\u001b[0m     df \u001b[38;5;241m=\u001b[39m \u001b[43mdownload_files\u001b[49m\u001b[43m(\u001b[49m\u001b[43mdf\u001b[49m\u001b[43m)\u001b[49m\n\u001b[0;32m     73\u001b[0m     \u001b[38;5;66;03m# Step 2: Read files and extract text\u001b[39;00m\n\u001b[0;32m     74\u001b[0m     df \u001b[38;5;241m=\u001b[39m read_files(df)\n",
      "Cell \u001b[1;32mIn[15], line 47\u001b[0m, in \u001b[0;36mdownload_files\u001b[1;34m(df)\u001b[0m\n\u001b[0;32m     45\u001b[0m content \u001b[38;5;241m=\u001b[39m download_pdf(row[\u001b[38;5;124m'\u001b[39m\u001b[38;5;124mLink\u001b[39m\u001b[38;5;124m'\u001b[39m])\n\u001b[0;32m     46\u001b[0m \u001b[38;5;28;01mif\u001b[39;00m content:\n\u001b[1;32m---> 47\u001b[0m     file_path \u001b[38;5;241m=\u001b[39m \u001b[43msave_pdf\u001b[49m\u001b[43m(\u001b[49m\u001b[43mcontent\u001b[49m\u001b[43m,\u001b[49m\u001b[43m \u001b[49m\u001b[43mrow\u001b[49m\u001b[43m[\u001b[49m\u001b[38;5;124;43m'\u001b[39;49m\u001b[38;5;124;43mYear\u001b[39;49m\u001b[38;5;124;43m'\u001b[39;49m\u001b[43m]\u001b[49m\u001b[43m,\u001b[49m\u001b[43m \u001b[49m\u001b[43mrow\u001b[49m\u001b[43m[\u001b[49m\u001b[38;5;124;43m'\u001b[39;49m\u001b[38;5;124;43mTitle\u001b[39;49m\u001b[38;5;124;43m'\u001b[39;49m\u001b[43m]\u001b[49m\u001b[43m)\u001b[49m\n\u001b[0;32m     48\u001b[0m     file_paths\u001b[38;5;241m.\u001b[39mappend(file_path)\n\u001b[0;32m     49\u001b[0m \u001b[38;5;28;01melse\u001b[39;00m:\n",
      "Cell \u001b[1;32mIn[15], line 37\u001b[0m, in \u001b[0;36msave_pdf\u001b[1;34m(content, year, title, data_directory)\u001b[0m\n\u001b[0;32m     35\u001b[0m os\u001b[38;5;241m.\u001b[39mmakedirs(directory, exist_ok\u001b[38;5;241m=\u001b[39m\u001b[38;5;28;01mTrue\u001b[39;00m)\n\u001b[0;32m     36\u001b[0m file_path \u001b[38;5;241m=\u001b[39m os\u001b[38;5;241m.\u001b[39mpath\u001b[38;5;241m.\u001b[39mjoin(directory, \u001b[38;5;124mf\u001b[39m\u001b[38;5;124m\"\u001b[39m\u001b[38;5;132;01m{\u001b[39;00mtitle\u001b[38;5;132;01m}\u001b[39;00m\u001b[38;5;124m.pdf\u001b[39m\u001b[38;5;124m\"\u001b[39m)\n\u001b[1;32m---> 37\u001b[0m \u001b[38;5;28;01mwith\u001b[39;00m \u001b[38;5;28;43mopen\u001b[39;49m\u001b[43m(\u001b[49m\u001b[43mfile_path\u001b[49m\u001b[43m,\u001b[49m\u001b[43m \u001b[49m\u001b[38;5;124;43m'\u001b[39;49m\u001b[38;5;124;43mwb\u001b[39;49m\u001b[38;5;124;43m'\u001b[39;49m\u001b[43m)\u001b[49m \u001b[38;5;28;01mas\u001b[39;00m f:\n\u001b[0;32m     38\u001b[0m     f\u001b[38;5;241m.\u001b[39mwrite(content)\n\u001b[0;32m     39\u001b[0m \u001b[38;5;28;01mreturn\u001b[39;00m file_path\n",
      "File \u001b[1;32m~\\AppData\\Roaming\\Python\\Python313\\site-packages\\IPython\\core\\interactiveshell.py:324\u001b[0m, in \u001b[0;36m_modified_open\u001b[1;34m(file, *args, **kwargs)\u001b[0m\n\u001b[0;32m    317\u001b[0m \u001b[38;5;28;01mif\u001b[39;00m file \u001b[38;5;129;01min\u001b[39;00m {\u001b[38;5;241m0\u001b[39m, \u001b[38;5;241m1\u001b[39m, \u001b[38;5;241m2\u001b[39m}:\n\u001b[0;32m    318\u001b[0m     \u001b[38;5;28;01mraise\u001b[39;00m \u001b[38;5;167;01mValueError\u001b[39;00m(\n\u001b[0;32m    319\u001b[0m         \u001b[38;5;124mf\u001b[39m\u001b[38;5;124m\"\u001b[39m\u001b[38;5;124mIPython won\u001b[39m\u001b[38;5;124m'\u001b[39m\u001b[38;5;124mt let you open fd=\u001b[39m\u001b[38;5;132;01m{\u001b[39;00mfile\u001b[38;5;132;01m}\u001b[39;00m\u001b[38;5;124m by default \u001b[39m\u001b[38;5;124m\"\u001b[39m\n\u001b[0;32m    320\u001b[0m         \u001b[38;5;124m\"\u001b[39m\u001b[38;5;124mas it is likely to crash IPython. If you know what you are doing, \u001b[39m\u001b[38;5;124m\"\u001b[39m\n\u001b[0;32m    321\u001b[0m         \u001b[38;5;124m\"\u001b[39m\u001b[38;5;124myou can use builtins\u001b[39m\u001b[38;5;124m'\u001b[39m\u001b[38;5;124m open.\u001b[39m\u001b[38;5;124m\"\u001b[39m\n\u001b[0;32m    322\u001b[0m     )\n\u001b[1;32m--> 324\u001b[0m \u001b[38;5;28;01mreturn\u001b[39;00m \u001b[43mio_open\u001b[49m\u001b[43m(\u001b[49m\u001b[43mfile\u001b[49m\u001b[43m,\u001b[49m\u001b[43m \u001b[49m\u001b[38;5;241;43m*\u001b[39;49m\u001b[43margs\u001b[49m\u001b[43m,\u001b[49m\u001b[43m \u001b[49m\u001b[38;5;241;43m*\u001b[39;49m\u001b[38;5;241;43m*\u001b[39;49m\u001b[43mkwargs\u001b[49m\u001b[43m)\u001b[49m\n",
      "\u001b[1;31mFileNotFoundError\u001b[0m: [Errno 2] No such file or directory: 'data\\\\2016\\\\IMFC Statement by Rosine Coulibaly/Sori, Minister of Economy, Finance and Development, Burkina Faso.pdf'"
     ]
    }
   ],
   "source": [
    "import requests\n",
    "import os\n",
    "from io import BytesIO\n",
    "from PyPDF2 import PdfReader\n",
    "import pandas as pd\n",
    "\n",
    "# Function to download PDF\n",
    "def download_pdf(link):\n",
    "    try:\n",
    "        response = requests.get(link)\n",
    "        response.raise_for_status()  # Raises an HTTPError for bad responses (4xx and 5xx)\n",
    "        return response.content\n",
    "    except requests.RequestException as e:\n",
    "        print(f\"Error downloading {link}: {e}\")\n",
    "        return None\n",
    "\n",
    "# Function to extract text from PDF content\n",
    "def extract_text_from_pdf(content):\n",
    "    try:\n",
    "        pdf_bytes = BytesIO(content)\n",
    "        pdf_reader = PdfReader(pdf_bytes)\n",
    "        text = ''\n",
    "        for page in pdf_reader.pages:\n",
    "            page_text = page.extract_text()\n",
    "            if page_text:\n",
    "                text += page_text\n",
    "        return text\n",
    "    except Exception as e:\n",
    "        print(f\"Error reading PDF content: {e}\")\n",
    "        return None\n",
    "\n",
    "# Function to save PDF to a specified directory\n",
    "def save_pdf(content, year, title, data_directory=\"data\"):\n",
    "    directory = os.path.join(data_directory, str(year))\n",
    "    os.makedirs(directory, exist_ok=True)\n",
    "    file_path = os.path.join(directory, f\"{title}.pdf\")\n",
    "    with open(file_path, 'wb') as f:\n",
    "        f.write(content)\n",
    "    return file_path\n",
    "\n",
    "# Function to download PDFs and store file paths\n",
    "def download_files(df):\n",
    "    file_paths = []\n",
    "    for _, row in df.iterrows():\n",
    "        content = download_pdf(row['Link'])\n",
    "        if content:\n",
    "            file_path = save_pdf(content, row['Year'], row['Title'])\n",
    "            file_paths.append(file_path)\n",
    "        else:\n",
    "            file_paths.append(None)  # Append None if download failed\n",
    "    df['File_Path'] = file_paths\n",
    "    return df\n",
    "\n",
    "# Function to read and extract text from downloaded PDF files\n",
    "def read_files(df):\n",
    "    texts = []\n",
    "    for _, row in df.iterrows():\n",
    "        if row['File_Path']:\n",
    "            with open(row['File_Path'], 'rb') as f:\n",
    "                content = f.read()\n",
    "            text = extract_text_from_pdf(content)\n",
    "            texts.append(text)\n",
    "        else:\n",
    "            texts.append(None)  # Append None if file is not available\n",
    "    df['Extracted_Text'] = texts\n",
    "    return df\n",
    "\n",
    "# Example of usage with your DataFrame\n",
    "def process_dataframe(df):\n",
    "    # Step 1: Download files\n",
    "    df = download_files(df)\n",
    "    \n",
    "    # Step 2: Read files and extract text\n",
    "    df = read_files(df)\n",
    "    \n",
    "    return df\n",
    "\n",
    "# Assuming df is your input DataFrame\n",
    "processed_df = process_dataframe(df)\n",
    "\n",
    "# Save the updated dataframe\n",
    "processed_df.to_csv(\"processed_data.csv\", index=False)\n",
    "\n",
    "print(processed_df)\n"
   ]
  },
  {
   "cell_type": "code",
   "execution_count": null,
   "metadata": {},
   "outputs": [],
   "source": []
  }
 ],
 "metadata": {
  "kernelspec": {
   "display_name": "Python 3",
   "language": "python",
   "name": "python3"
  },
  "language_info": {
   "codemirror_mode": {
    "name": "ipython",
    "version": 3
   },
   "file_extension": ".py",
   "mimetype": "text/x-python",
   "name": "python",
   "nbconvert_exporter": "python",
   "pygments_lexer": "ipython3",
   "version": "3.13.1"
  }
 },
 "nbformat": 4,
 "nbformat_minor": 2
}
