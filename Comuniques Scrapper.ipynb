{
 "cells": [
  {
   "cell_type": "code",
   "execution_count": 1,
   "metadata": {},
   "outputs": [],
   "source": [
    "import requests\n",
    "from bs4 import BeautifulSoup\n",
    "import pandas as pd"
   ]
  },
  {
   "cell_type": "code",
   "execution_count": 2,
   "metadata": {},
   "outputs": [],
   "source": [
    "links=pd.read_csv('links.csv')"
   ]
  },
  {
   "cell_type": "code",
   "execution_count": 3,
   "metadata": {},
   "outputs": [
    {
     "data": {
      "text/plain": [
       "0      https://www.imf.org/en/News/Articles/2024/10/2...\n",
       "1      https://www.imf.org/en/News/Articles/2024/04/1...\n",
       "2      https://www.imf.org/en/News/Articles/2023/10/1...\n",
       "3      https://www.imf.org/en/News/Articles/2023/04/1...\n",
       "4      https://www.imf.org/en/News/Articles/2022/10/1...\n",
       "                             ...                        \n",
       "168    https://www.imf.org/en/News/Articles/2015/09/2...\n",
       "169    https://www.imf.org/en/News/Articles/2015/09/2...\n",
       "170    https://www.imf.org/en/News/Articles/2015/09/2...\n",
       "171    https://www.imf.org/en/News/Articles/2015/09/2...\n",
       "172    https://www.imf.org/en/News/Articles/2015/09/2...\n",
       "Name: Links, Length: 173, dtype: object"
      ]
     },
     "execution_count": 3,
     "metadata": {},
     "output_type": "execute_result"
    }
   ],
   "source": [
    "links['Links']"
   ]
  },
  {
   "cell_type": "code",
   "execution_count": 4,
   "metadata": {},
   "outputs": [
    {
     "name": "stdout",
     "output_type": "stream",
     "text": [
      "                                                 Title                Date  \\\n",
      "0    Intergovernmental Group of Twenty-Four on Inte...    October 22, 2024   \n",
      "1    Intergovernmental Group of Twenty-Four on Inte...      April 16, 2024   \n",
      "2    Intergovernmental Group of Twenty-Four on Inte...    October 10, 2023   \n",
      "3    Intergovernmental Group of Twenty-Four on Inte...      April 11, 2023   \n",
      "4    Intergovernmental Group of Twenty-Four on Inte...    October 11, 2022   \n",
      "..                                                 ...                 ...   \n",
      "168  Communiqué of the Interim Committee of the Boa...  September 21, 1997   \n",
      "169                    Group of Twenty Four Communiqué  September 20, 1997   \n",
      "170  Communiqué of the Ministers and Governors of t...      April 28, 1997   \n",
      "171                       Interim Committee Communiqué      April 28, 1997   \n",
      "172  Intergovernmental Group of Twenty-Four on Inte...      April 27, 1997   \n",
      "\n",
      "                                               Subtext  \n",
      "0    1. The G-24 expresses its deep concern over th...  \n",
      "1    1. The G‑24 recognizes the profound human suff...  \n",
      "2    1.               We  express our condolenceson...  \n",
      "3    Ministers of the Intergovernmental Group of Tw...  \n",
      "4    1. Multiple compounding crises have severely d...  \n",
      "..                                                 ...  \n",
      "168   In the advanced economies as a group, growth ...  \n",
      "169  Ministers of the Intergovernmental Group of Tw...  \n",
      "170  Washington, D.C. 1. The Ministers and Central ...  \n",
      "171  The Committee welcomed the generally favorable...  \n",
      "172  Washington, DC The meeting of the Ministers wa...  \n",
      "\n",
      "[173 rows x 3 columns]\n"
     ]
    }
   ],
   "source": [
    "import requests\n",
    "from bs4 import BeautifulSoup\n",
    "import pandas as pd\n",
    "\n",
    "# Data storage\n",
    "data = []\n",
    "\n",
    "# Iterate over links\n",
    "for link in links['Links']:\n",
    "    try:\n",
    "        # Fetch the page content\n",
    "        response = requests.get(link)\n",
    "        response.raise_for_status()  # Ensure the request was successful\n",
    "        soup = BeautifulSoup(response.text, 'html.parser')\n",
    "        \n",
    "        # Find the target <section> tag\n",
    "        section = soup.find('section')\n",
    "        \n",
    "        if section:\n",
    "            # Extract the title from <h2>\n",
    "            title = section.find('h2').get_text(strip=True) if section.find('h2') else \"No Title\"\n",
    "            \n",
    "            # Extract the date from <p class=\"date\">\n",
    "            date_element = section.find('p', class_='date')\n",
    "            date = date_element.get_text(strip=True) if date_element else \"No Date\"\n",
    "            \n",
    "            # Extract all <p> tags and combine their text into one string (excluding the date)\n",
    "            subtext = \" \".join([p.get_text(strip=True) for p in section.find_all('p') if p != date_element])\n",
    "            \n",
    "            # Add to data list\n",
    "            data.append({'Title': title, 'Date': date, 'Subtext': subtext})\n",
    "        else:\n",
    "            # Handle missing <section>\n",
    "            data.append({'Title': \"No Section Found\", 'Date': \"No Date Found\", 'Subtext': \"No Subtext Found\"})\n",
    "    \n",
    "    except Exception as e:\n",
    "        # Handle errors and continue with the next link\n",
    "        print(f\"Error processing {link}: {e}\")\n",
    "        data.append({'Title': \"Error\", 'Date': \"Error\", 'Subtext': str(e)})\n",
    "\n",
    "# Convert data into a DataFrame\n",
    "df = pd.DataFrame(data)\n",
    "\n",
    "# Print the DataFrame\n",
    "print(df)"
   ]
  },
  {
   "cell_type": "code",
   "execution_count": 5,
   "metadata": {},
   "outputs": [],
   "source": [
    "df.to_csv(\"scraped_data.csv\", index=False)"
   ]
  }
 ],
 "metadata": {
  "kernelspec": {
   "display_name": "Python 3",
   "language": "python",
   "name": "python3"
  },
  "language_info": {
   "codemirror_mode": {
    "name": "ipython",
    "version": 3
   },
   "file_extension": ".py",
   "mimetype": "text/x-python",
   "name": "python",
   "nbconvert_exporter": "python",
   "pygments_lexer": "ipython3",
   "version": "3.12.2"
  }
 },
 "nbformat": 4,
 "nbformat_minor": 2
}
