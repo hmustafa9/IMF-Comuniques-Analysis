{
 "cells": [
  {
   "cell_type": "code",
   "execution_count": 1,
   "metadata": {},
   "outputs": [],
   "source": [
    "import pandas as pd\n",
    "from collections import defaultdict"
   ]
  },
  {
   "cell_type": "code",
   "execution_count": 2,
   "metadata": {},
   "outputs": [],
   "source": [
    "def translate_abbreviations(abbreviations):\n",
    "    translation_dict = {\n",
    "        \"AUT\": \"Austria\",\n",
    "        \"THA\": \"Thailand\",\n",
    "        \"CHE\": \"Switzerland\",\n",
    "        \"ZAF\": \"South Africa\",\n",
    "        \"ESP\": \"Spain\",\n",
    "        \"ECB\": \"European Central Bank\",\n",
    "        \"ecb\": \"European Central Bank\",\n",
    "        \"OPEC\": \"Organization of the Petroleum Exporting Countries\",\n",
    "        \"Saudi\": \"Saudi Arabia\",\n",
    "        \"France\": \"France\",\n",
    "        \"Argentina\": \"Argentina\",\n",
    "        \"Australia\": \"Australia\",\n",
    "        \"OECD\": \"Organisation for Economic Co-operation and Development\",\n",
    "        \"oecd\": \"Organisation for Economic Co-operation and Development\",\n",
    "        \"Spain\": \"Spain\",\n",
    "        \"EC\": \"European Commission\",\n",
    "        \"Italy\": \"Italy\",\n",
    "        \"Brazil\": \"Brazil\",\n",
    "        \"Netherlands\": \"Netherlands\",\n",
    "        \"Austria\": \"Austria\",\n",
    "        \"japan\": \"Japan\",\n",
    "        \"Switzerland\": \"Switzerland\",\n",
    "        \"SA\": \"South Africa\",\n",
    "        \"Germany\": \"Germany\",\n",
    "        \"UAE\": \"United Arab Emirates\",\n",
    "        \"uae\": \"United Arab Emirates\",\n",
    "        \"Gabon\": \"Gabon\",\n",
    "        \"gab\": \"Gabon\",\n",
    "        \"GAB\": \"Gabon\",\n",
    "        \"China\": \"China\",\n",
    "        \"UK\": \"United Kingdom\",\n",
    "        \"Russia\": \"Russia\",\n",
    "        \"india\": \"India\",\n",
    "        \"Thailand\": \"Thailand\",\n",
    "        \"Algeria\": \"Algeria\",\n",
    "        \"EUcouncil\": \"European Council\",\n",
    "        \"Norway\": \"Norway\",\n",
    "        \"usa\": \"United States\",\n",
    "        \"Ghana\": \"Ghana\",\n",
    "        \"Djibouti\": \"Djibouti\",\n",
    "        \"djibouti-fr\": \"Djibouti (French)\",\n",
    "        \"Saudi-Arabia\": \"Saudi Arabia\",\n",
    "        \"eu-council-of-economic-and-finance-ministers\": \"Council of Economic and Finance Ministers (EU)\",\n",
    "        \"Chile\": \"Chile\",\n",
    "        \"european-commission\": \"European Commission\",\n",
    "        \"ec\": \"European Commission\",\n",
    "        \"chl\": \"Chile\",\n",
    "        \"Canada\": \"Canada\",\n",
    "        \"ILO\": \"International Labour Organization\",\n",
    "        \"ilo\": \"International Labour Organization\",\n",
    "        \"United-Kingdom\": \"United Kingdom\",\n",
    "        \"Switzterland\": \"Switzerland\",\n",
    "        \"Finland\": \"Finland\",\n",
    "        \"India\": \"India\",\n",
    "        \"united-nations\": \"United Nations\",\n",
    "        \"Japan\": \"Japan\",\n",
    "        \"Belgium\": \"Belgium\",\n",
    "        \"Singapore\": \"Singapore\",\n",
    "        \"united-states\": \"United States\",\n",
    "        \"Nigeria\": \"Nigeria\",\n",
    "        \"united-arab-emirates\": \"United Arab Emirates\",\n",
    "        \"saudi-arabia\": \"Saudi Arabia\",\n",
    "        \"Korea\": \"Republic of Korea\",\n",
    "        \"cote-divoire\": \"Côte d'Ivoire\",\n",
    "        \"civ-f\": \"Côte d'Ivoire (French)\",\n",
    "        \"Sweden\": \"Sweden\",\n",
    "        \"canada-f\": \"Canada (French)\",\n",
    "        \"UNCTAD\": \"United Nations Conference on Trade and Development\",\n",
    "        \"unctad\": \"United Nations Conference on Trade and Development\",\n",
    "        \"kingdom-of-the-netherlands\": \"Kingdom of the Netherlands\",\n",
    "        \"Hungary\": \"Hungary\",\n",
    "        \"Indonesia\": \"Indonesia\",\n",
    "        \"peoples-republic-of-china\": \"China\",\n",
    "        \"republic-of-korea\": \"Republic of Korea\",\n",
    "        \"democratic-republic-of-the-congo\": \"Democratic Republic of the Congo\",\n",
    "        \"south-africa\": \"South Africa\",\n",
    "        \"Malaysia\": \"Malaysia\",\n",
    "        \"Denmark\": \"Denmark\",\n",
    "        \"UN\": \"United Nations\",\n",
    "        \"un\": \"United Nations\",\n",
    "        \"tur\": \"Turkey\",\n",
    "        \"sau\": \"Saudi Arabia\",\n",
    "        \"jpn\": \"Japan\",\n",
    "        \"dza\": \"Algeria\",\n",
    "        \"DZA\": \"Algeria\",\n",
    "        \"can\": \"Canada\",\n",
    "        \"aus\": \"Australia\",\n",
    "        \"ita\": \"Italy\",\n",
    "        \"ITA\": \"Italy\",\n",
    "        \"bra\": \"Brazil\",\n",
    "        \"arg\": \"Argentina\",\n",
    "        \"ARG\": \"Argentina\",\n",
    "        \"nld\": \"Netherlands\",\n",
    "        \"NLD\": \"Netherlands\",\n",
    "        \"fra\": \"France\",\n",
    "        \"FRA\": \"France\",\n",
    "        \"che\": \"Switzerland\",\n",
    "        \"zaf\": \"South Africa\",\n",
    "        \"cog\": \"Democratic Republic of the Congo\",\n",
    "        \"nor\": \"Norway\",\n",
    "        \"esp\": \"Spain\",\n",
    "        \"deu\": \"Germany\",\n",
    "        \"rus\": \"Russia\",\n",
    "        \"ind\": \"India\",\n",
    "        \"IND\": \"India\",\n",
    "        \"gbr\": \"United Kingdom\",\n",
    "        \"tha\": \"Thailand\",\n",
    "        \"NGA\": \"Nigeria\",\n",
    "        \"ARE\": \"United Arab Emirates\",\n",
    "        \"TUR\": \"Turkey\",\n",
    "        \"JPN\": \"Japan\",\n",
    "        \"wto\": \"World Trade Organization\",\n",
    "        \"opec\": \"Organization of the Petroleum Exporting Countries\",\n",
    "        \"BRA\": \"Brazil\",\n",
    "        \"BEL\": \"Belgium\",\n",
    "        \"bel\": \"Belgium\",\n",
    "        \"AUS\": \"Australia\",\n",
    "        \"GBR\": \"United Kingdom\",\n",
    "        \"united-kingdom\": \"United Kingdom\",\n",
    "        \"ECOFIN\": \"Economic and Financial Affairs Council\",\n",
    "        \"ecofin\": \"Economic and Financial Affairs Council\",\n",
    "        \"FIN\": \"Finland\",\n",
    "        \"USA\": \"United States\",\n",
    "        \"CAN\": \"Canada\",\n",
    "        \"DEU\": \"Germany\",\n",
    "        \"CHN\": \"China\",\n",
    "        \"are\": \"United Arab Emirates\",\n",
    "        \"WTO\": \"World Trade Organization\",\n",
    "        \"SWE\": \"Sweden\",\n",
    "        \"swe\": \"Sweden\",        \n",
    "        \"KOR\": \"Republic of Korea\",\n",
    "        \"kor\": \"Republic of Korea\",\n",
    "        \"COD\": \"Democratic Republic of the Congo\",\n",
    "        \"cod\": \"Democratic Republic of the Congo\",\n",
    "        \"CZE\": \"Czech Republic\",\n",
    "        \"cze\": \"Czech Republic\",\n",
    "        \"NGA\": \"Nigeria\",\n",
    "        \"nga\": \"Nigeria\",\n",
    "        \"PER\": \"Peru\",\n",
    "        \"per\": \"Peru\",\n",
    "        \"IDN\": \"Indonesia\",\n",
    "        \"idn\": \"Indonesia\",\n",
    "        \"CHN\": \"China\",\n",
    "        \"chn\": \"China\",\n",
    "        \"EST\": \"Estonia\",\n",
    "        \"est\": \"Estonia\",\n",
    "        \"CMR\": \"Cameroon\",\n",
    "        \"cmr\": \"Cameroon\",\n",
    "        \"SGP\": \"Singapore\",\n",
    "        \"sgp\": \"Singapore\",\n",
    "        \"BFA\": \"Burkina Faso\",\n",
    "        \"bfa\": \"Burkina Faso\",\n",
    "        \"DNK\": \"Denmark\",\n",
    "        \"dnk\": \"Denmark\",\n",
    "        \"MYS\": \"Malaysia\",\n",
    "        \"mys\": \"Malaysia\",\n",
    "        \"FSB\": \"Financial Stability Board\",\n",
    "        \"fsb\": \"Financial Stability Board\",\n",
    "        \"LTU\": \"Lithuania\",\n",
    "        \"WB\": \"World Bank\",\n",
    "        \"wb\": \"World Bank\",\n",
    "        \"IMF\": \"International Monetary Fund\",\n",
    "        \"imf\": \"International Monetary Fund\",\n",
    "        \"EU\": \"European Union\",\n",
    "        \"eu\": \"European Union\",\n",
    "        \"fin\": \"Finland\",\n",
    "        \"col\": \"Colombia\",\n",
    "        \"fsf\": \"Financial Stability Forum\",\n",
    "        \"imfe\":\"International Monetary and Financial Committee\",\n",
    "        \"uaee\": \"United Arab Emirates\",\n",
    "        \"gbre\": \"United Kingdom\",\n",
    "        \"inde\": \"India\",\n",
    "        \"ause\": \"Australia\",\n",
    "        \"thae\": \"Thailand\",\n",
    "        \"deue\": \"Germany\",\n",
    "        \"nore\": \"Norway\",\n",
    "        \"cane\": \"Canada\",\n",
    "        \"ruse\": \"Russia\",\n",
    "        \"chee\": \"Switzerland\",\n",
    "        \"bele\": \"Belgium\",\n",
    "        \"usae\": \"United States\",\n",
    "        \"itae\": \"Italy\",\n",
    "        \"jpne\": \"Japan\",\n",
    "        \"wbe\": \"World Bank\",\n",
    "        \"eue\": \"European Union\"\n",
    "    }\n",
    "    \n",
    "    return [translation_dict.get(abbr, abbr) for abbr in abbreviations]\n",
    "\n",
    "\n"
   ]
  },
  {
   "cell_type": "code",
   "execution_count": 3,
   "metadata": {},
   "outputs": [],
   "source": [
    "constituencies = {\n",
    "    \"AE\": [\"Angola\", \"Botswana\", \"Burundi\", \"Eritrea\", \"Ethiopia\", \"The Gambia\", \"Kenya\", \"Lesotho\", \"Liberia\", \"Malawi\", \"Mozambique\", \"Namibia\", \"Nigeria\", \"Sierra Leone\", \"Somalia\", \"South Africa\", \"South Sudan\", \"Sudan\", \"Eswatini\", \"Tanzania\", \"Uganda\", \"Zambia\", \"Zimbabwe\"],\n",
    "    \"AF\": [\"Benin\", \"Burkina Faso\", \"Cameroon\", \"C.A.R.\", \"Chad\", \"Comoros\", \"D.R. Congo\",\"Democratic Republic of the Congo\", \"Rep. Congo\", \"Côte d'Ivoire\", \"Djibouti\", \"Equatorial Guinea\", \"Gabon\", \"Guinea\", \"Guinea Bissau\", \"Madagascar\", \"Mali\", \"Mauritania\", \"Mauritius\", \"Niger\", \"Rwanda\", \"São Tomé & Príncipe\", \"Senegal\", \"Togo\"],\n",
    "    \"AG\": [\"Argentina\", \"Bolivia\", \"Chile\", \"Paraguay\", \"Peru\", \"Uruguay\"],\n",
    "    \"AP\": [\"Australia\", \"Kiribati\", \"Korea\",\"Republic of Korea\", \"Marshall Islands\", \"Federated States of Micronesia\", \"Mongolia\", \"Nauru\", \"New Zealand\", \"Palau\", \"Papua New Guinea\", \"Samoa\", \"Seychelles\", \"Solomon Islands\", \"Tuvalu\", \"Vanuatu\"],\n",
    "    \"BR\": [\"Brazil\", \"Cabo Verde\", \"Dominican Republic\", \"Ecuador\", \"Guyana\", \"Haiti\", \"Nicaragua\", \"Panama\", \"Suriname\", \"Timor-Leste\", \"Trinidad and Tobago\"],\n",
    "    \"CC\": [\"China\"],\n",
    "    \"CE\": [\"Colombia\", \"Costa Rica\", \"El Salvador\", \"Guatemala\", \"Honduras\", \"Mexico\", \"Spain\", \"República Bolivariana de Venezuela\"],\n",
    "    \"CO\": [\"Antigua and Barbuda\", \"The Bahamas\", \"Barbados\", \"Belize\", \"Canada\", \"Dominica\", \"Grenada\", \"Ireland\", \"Jamaica\", \"St. Kitts and Nevis\", \"St. Lucia\", \"St. Vincent and the Grenadines\"],\n",
    "    \"EC\": [\"Austria\", \"Belarus\", \"Czech Republic\", \"Hungary\", \"Kosovo\", \"Slovak Republic\", \"Slovenia\", \"Turkey\"],\n",
    "    \"FF\": [\"France\"],\n",
    "    \"GR\": [\"Germany\"],\n",
    "    \"IN\": [\"Bangladesh\", \"Bhutan\", \"India\", \"Sri Lanka\"],\n",
    "    \"IT\": [\"Albania\", \"Greece\", \"Italy\", \"Malta\", \"Portugal\", \"San Marino\"],\n",
    "    \"JA\": [\"Japan\"],\n",
    "    \"MD\": [\"Afghanistan\", \"Algeria\", \"Ghana\", \"Islamic Republic of Iran\", \"Libya\", \"Morocco\", \"Pakistan\", \"Tunisia\"],\n",
    "    \"MI\": [\"Bahrain\", \"Egypt\", \"Iraq\", \"Jordan\", \"Kuwait\", \"Lebanon\", \"Maldives\", \"Oman\", \"Qatar\", \"United Arab Emirates\",'Uae', \"Republic of Yemen\"],\n",
    "    \"NE\": [\"Andorra\", \"Armenia\", \"Belgium\", \"Bosnia and Herzegovina\", \"Bulgaria\", \"Croatia\", \"Cyprus\", \"Georgia\", \"Israel\", \"Luxembourg\", \"Moldova\", \"Montenegro\", \"Netherlands\", \"Republic of North Macedonia\", \"Romania\", \"Ukraine\"],\n",
    "    \"NO\": [\"Denmark\", \"Estonia\", \"Finland\", \"Iceland\", \"Latvia\", \"Lithuania\", \"Norway\", \"Sweden\"],\n",
    "    \"RU\": [\"Russia\", \"Syrian Arab Republic\"],\n",
    "    \"SA\": [\"Saudi Arabia\"],\n",
    "    \"ST\": [\"Brunei Darussalam\", \"Cambodia\", \"Fiji\", \"Indonesia\", \"Lao People's Democratic Republic\", \"Malaysia\", \"Myanmar\", \"Nepal\", \"Philippines\", \"Singapore\", \"Thailand\", \"Tonga\", \"Vietnam\"],\n",
    "    \"SZ\": [\"Azerbaijan\", \"Kazakhstan\", \"Kyrgyz Republic\", \"Poland\", \"Serbia\", \"Switzerland\", \"Tajikistan\", \"Turkmenistan\", \"Uzbekistan\"],\n",
    "    \"UK\": [\"United Kingdom\",'UK','Uk'],\n",
    "    \"US\": [\"United States\"]\n",
    "\n",
    "}\n",
    "\n",
    "def assign_constituency(country_name):\n",
    "    country_name = country_name.strip()\n",
    "    for constituency, countries in constituencies.items():\n",
    "        if country_name in countries:\n",
    "            return constituency\n",
    "    return \"OBS\"\n"
   ]
  },
  {
   "cell_type": "code",
   "execution_count": 10,
   "metadata": {},
   "outputs": [],
   "source": [
    "data=pd.read_csv(\"csvs//processed_data.csv\").drop(columns=['File_Path'])\n",
    "data['Region/Authority']=data['Link'].str.extract(r'/([^/]+)(?=\\.pdf)')\n",
    "data['Region/Authority']=data['Region/Authority'].apply(lambda x: translate_abbreviations([x])[0])\n",
    "data['Constituency']=data['Region/Authority'].apply(assign_constituency)\n",
    "data = data.drop(columns=['Link'])"
   ]
  },
  {
   "cell_type": "code",
   "execution_count": 11,
   "metadata": {},
   "outputs": [],
   "source": [
    "data.to_csv('csvs\\\\Cleaned_constituency_data.csv',index=False)"
   ]
  },
  {
   "cell_type": "code",
   "execution_count": 7,
   "metadata": {},
   "outputs": [
    {
     "data": {
      "application/vnd.plotly.v1+json": {
       "config": {
        "plotlyServerURL": "https://plot.ly"
       },
       "data": [
        {
         "hovertemplate": "Constituency=%{x}<br>Number of Rows=%{marker.color}<extra></extra>",
         "legendgroup": "",
         "marker": {
          "color": {
           "bdata": "GhUVFRUUFBQUExMSEREQEA8PDQwLBwYE",
           "dtype": "i1"
          },
          "coloraxis": "coloraxis",
          "pattern": {
           "shape": ""
          }
         },
         "name": "",
         "orientation": "v",
         "showlegend": false,
         "textposition": "auto",
         "type": "bar",
         "x": [
          "NE",
          "GR",
          "SZ",
          "JA",
          "NO",
          "AG",
          "IT",
          "US",
          "CO",
          "BR",
          "UK",
          "CC",
          "IN",
          "AP",
          "AE",
          "MD",
          "FF",
          "MI",
          "ST",
          "EC",
          "AF",
          "CE",
          "SA",
          "RU"
         ],
         "xaxis": "x",
         "y": {
          "bdata": "GhUVFRUUFBQUExMSEREQEA8PDQwLBwYE",
          "dtype": "i1"
         },
         "yaxis": "y"
        }
       ],
       "layout": {
        "barmode": "relative",
        "coloraxis": {
         "colorbar": {
          "title": {
           "text": "Number of Rows"
          }
         },
         "colorscale": [
          [
           0,
           "#0d0887"
          ],
          [
           0.1111111111111111,
           "#46039f"
          ],
          [
           0.2222222222222222,
           "#7201a8"
          ],
          [
           0.3333333333333333,
           "#9c179e"
          ],
          [
           0.4444444444444444,
           "#bd3786"
          ],
          [
           0.5555555555555556,
           "#d8576b"
          ],
          [
           0.6666666666666666,
           "#ed7953"
          ],
          [
           0.7777777777777778,
           "#fb9f3a"
          ],
          [
           0.8888888888888888,
           "#fdca26"
          ],
          [
           1,
           "#f0f921"
          ]
         ]
        },
        "legend": {
         "tracegroupgap": 0
        },
        "template": {
         "data": {
          "bar": [
           {
            "error_x": {
             "color": "#2a3f5f"
            },
            "error_y": {
             "color": "#2a3f5f"
            },
            "marker": {
             "line": {
              "color": "#E5ECF6",
              "width": 0.5
             },
             "pattern": {
              "fillmode": "overlay",
              "size": 10,
              "solidity": 0.2
             }
            },
            "type": "bar"
           }
          ],
          "barpolar": [
           {
            "marker": {
             "line": {
              "color": "#E5ECF6",
              "width": 0.5
             },
             "pattern": {
              "fillmode": "overlay",
              "size": 10,
              "solidity": 0.2
             }
            },
            "type": "barpolar"
           }
          ],
          "carpet": [
           {
            "aaxis": {
             "endlinecolor": "#2a3f5f",
             "gridcolor": "white",
             "linecolor": "white",
             "minorgridcolor": "white",
             "startlinecolor": "#2a3f5f"
            },
            "baxis": {
             "endlinecolor": "#2a3f5f",
             "gridcolor": "white",
             "linecolor": "white",
             "minorgridcolor": "white",
             "startlinecolor": "#2a3f5f"
            },
            "type": "carpet"
           }
          ],
          "choropleth": [
           {
            "colorbar": {
             "outlinewidth": 0,
             "ticks": ""
            },
            "type": "choropleth"
           }
          ],
          "contour": [
           {
            "colorbar": {
             "outlinewidth": 0,
             "ticks": ""
            },
            "colorscale": [
             [
              0,
              "#0d0887"
             ],
             [
              0.1111111111111111,
              "#46039f"
             ],
             [
              0.2222222222222222,
              "#7201a8"
             ],
             [
              0.3333333333333333,
              "#9c179e"
             ],
             [
              0.4444444444444444,
              "#bd3786"
             ],
             [
              0.5555555555555556,
              "#d8576b"
             ],
             [
              0.6666666666666666,
              "#ed7953"
             ],
             [
              0.7777777777777778,
              "#fb9f3a"
             ],
             [
              0.8888888888888888,
              "#fdca26"
             ],
             [
              1,
              "#f0f921"
             ]
            ],
            "type": "contour"
           }
          ],
          "contourcarpet": [
           {
            "colorbar": {
             "outlinewidth": 0,
             "ticks": ""
            },
            "type": "contourcarpet"
           }
          ],
          "heatmap": [
           {
            "colorbar": {
             "outlinewidth": 0,
             "ticks": ""
            },
            "colorscale": [
             [
              0,
              "#0d0887"
             ],
             [
              0.1111111111111111,
              "#46039f"
             ],
             [
              0.2222222222222222,
              "#7201a8"
             ],
             [
              0.3333333333333333,
              "#9c179e"
             ],
             [
              0.4444444444444444,
              "#bd3786"
             ],
             [
              0.5555555555555556,
              "#d8576b"
             ],
             [
              0.6666666666666666,
              "#ed7953"
             ],
             [
              0.7777777777777778,
              "#fb9f3a"
             ],
             [
              0.8888888888888888,
              "#fdca26"
             ],
             [
              1,
              "#f0f921"
             ]
            ],
            "type": "heatmap"
           }
          ],
          "histogram": [
           {
            "marker": {
             "pattern": {
              "fillmode": "overlay",
              "size": 10,
              "solidity": 0.2
             }
            },
            "type": "histogram"
           }
          ],
          "histogram2d": [
           {
            "colorbar": {
             "outlinewidth": 0,
             "ticks": ""
            },
            "colorscale": [
             [
              0,
              "#0d0887"
             ],
             [
              0.1111111111111111,
              "#46039f"
             ],
             [
              0.2222222222222222,
              "#7201a8"
             ],
             [
              0.3333333333333333,
              "#9c179e"
             ],
             [
              0.4444444444444444,
              "#bd3786"
             ],
             [
              0.5555555555555556,
              "#d8576b"
             ],
             [
              0.6666666666666666,
              "#ed7953"
             ],
             [
              0.7777777777777778,
              "#fb9f3a"
             ],
             [
              0.8888888888888888,
              "#fdca26"
             ],
             [
              1,
              "#f0f921"
             ]
            ],
            "type": "histogram2d"
           }
          ],
          "histogram2dcontour": [
           {
            "colorbar": {
             "outlinewidth": 0,
             "ticks": ""
            },
            "colorscale": [
             [
              0,
              "#0d0887"
             ],
             [
              0.1111111111111111,
              "#46039f"
             ],
             [
              0.2222222222222222,
              "#7201a8"
             ],
             [
              0.3333333333333333,
              "#9c179e"
             ],
             [
              0.4444444444444444,
              "#bd3786"
             ],
             [
              0.5555555555555556,
              "#d8576b"
             ],
             [
              0.6666666666666666,
              "#ed7953"
             ],
             [
              0.7777777777777778,
              "#fb9f3a"
             ],
             [
              0.8888888888888888,
              "#fdca26"
             ],
             [
              1,
              "#f0f921"
             ]
            ],
            "type": "histogram2dcontour"
           }
          ],
          "mesh3d": [
           {
            "colorbar": {
             "outlinewidth": 0,
             "ticks": ""
            },
            "type": "mesh3d"
           }
          ],
          "parcoords": [
           {
            "line": {
             "colorbar": {
              "outlinewidth": 0,
              "ticks": ""
             }
            },
            "type": "parcoords"
           }
          ],
          "pie": [
           {
            "automargin": true,
            "type": "pie"
           }
          ],
          "scatter": [
           {
            "fillpattern": {
             "fillmode": "overlay",
             "size": 10,
             "solidity": 0.2
            },
            "type": "scatter"
           }
          ],
          "scatter3d": [
           {
            "line": {
             "colorbar": {
              "outlinewidth": 0,
              "ticks": ""
             }
            },
            "marker": {
             "colorbar": {
              "outlinewidth": 0,
              "ticks": ""
             }
            },
            "type": "scatter3d"
           }
          ],
          "scattercarpet": [
           {
            "marker": {
             "colorbar": {
              "outlinewidth": 0,
              "ticks": ""
             }
            },
            "type": "scattercarpet"
           }
          ],
          "scattergeo": [
           {
            "marker": {
             "colorbar": {
              "outlinewidth": 0,
              "ticks": ""
             }
            },
            "type": "scattergeo"
           }
          ],
          "scattergl": [
           {
            "marker": {
             "colorbar": {
              "outlinewidth": 0,
              "ticks": ""
             }
            },
            "type": "scattergl"
           }
          ],
          "scattermap": [
           {
            "marker": {
             "colorbar": {
              "outlinewidth": 0,
              "ticks": ""
             }
            },
            "type": "scattermap"
           }
          ],
          "scattermapbox": [
           {
            "marker": {
             "colorbar": {
              "outlinewidth": 0,
              "ticks": ""
             }
            },
            "type": "scattermapbox"
           }
          ],
          "scatterpolar": [
           {
            "marker": {
             "colorbar": {
              "outlinewidth": 0,
              "ticks": ""
             }
            },
            "type": "scatterpolar"
           }
          ],
          "scatterpolargl": [
           {
            "marker": {
             "colorbar": {
              "outlinewidth": 0,
              "ticks": ""
             }
            },
            "type": "scatterpolargl"
           }
          ],
          "scatterternary": [
           {
            "marker": {
             "colorbar": {
              "outlinewidth": 0,
              "ticks": ""
             }
            },
            "type": "scatterternary"
           }
          ],
          "surface": [
           {
            "colorbar": {
             "outlinewidth": 0,
             "ticks": ""
            },
            "colorscale": [
             [
              0,
              "#0d0887"
             ],
             [
              0.1111111111111111,
              "#46039f"
             ],
             [
              0.2222222222222222,
              "#7201a8"
             ],
             [
              0.3333333333333333,
              "#9c179e"
             ],
             [
              0.4444444444444444,
              "#bd3786"
             ],
             [
              0.5555555555555556,
              "#d8576b"
             ],
             [
              0.6666666666666666,
              "#ed7953"
             ],
             [
              0.7777777777777778,
              "#fb9f3a"
             ],
             [
              0.8888888888888888,
              "#fdca26"
             ],
             [
              1,
              "#f0f921"
             ]
            ],
            "type": "surface"
           }
          ],
          "table": [
           {
            "cells": {
             "fill": {
              "color": "#EBF0F8"
             },
             "line": {
              "color": "white"
             }
            },
            "header": {
             "fill": {
              "color": "#C8D4E3"
             },
             "line": {
              "color": "white"
             }
            },
            "type": "table"
           }
          ]
         },
         "layout": {
          "annotationdefaults": {
           "arrowcolor": "#2a3f5f",
           "arrowhead": 0,
           "arrowwidth": 1
          },
          "autotypenumbers": "strict",
          "coloraxis": {
           "colorbar": {
            "outlinewidth": 0,
            "ticks": ""
           }
          },
          "colorscale": {
           "diverging": [
            [
             0,
             "#8e0152"
            ],
            [
             0.1,
             "#c51b7d"
            ],
            [
             0.2,
             "#de77ae"
            ],
            [
             0.3,
             "#f1b6da"
            ],
            [
             0.4,
             "#fde0ef"
            ],
            [
             0.5,
             "#f7f7f7"
            ],
            [
             0.6,
             "#e6f5d0"
            ],
            [
             0.7,
             "#b8e186"
            ],
            [
             0.8,
             "#7fbc41"
            ],
            [
             0.9,
             "#4d9221"
            ],
            [
             1,
             "#276419"
            ]
           ],
           "sequential": [
            [
             0,
             "#0d0887"
            ],
            [
             0.1111111111111111,
             "#46039f"
            ],
            [
             0.2222222222222222,
             "#7201a8"
            ],
            [
             0.3333333333333333,
             "#9c179e"
            ],
            [
             0.4444444444444444,
             "#bd3786"
            ],
            [
             0.5555555555555556,
             "#d8576b"
            ],
            [
             0.6666666666666666,
             "#ed7953"
            ],
            [
             0.7777777777777778,
             "#fb9f3a"
            ],
            [
             0.8888888888888888,
             "#fdca26"
            ],
            [
             1,
             "#f0f921"
            ]
           ],
           "sequentialminus": [
            [
             0,
             "#0d0887"
            ],
            [
             0.1111111111111111,
             "#46039f"
            ],
            [
             0.2222222222222222,
             "#7201a8"
            ],
            [
             0.3333333333333333,
             "#9c179e"
            ],
            [
             0.4444444444444444,
             "#bd3786"
            ],
            [
             0.5555555555555556,
             "#d8576b"
            ],
            [
             0.6666666666666666,
             "#ed7953"
            ],
            [
             0.7777777777777778,
             "#fb9f3a"
            ],
            [
             0.8888888888888888,
             "#fdca26"
            ],
            [
             1,
             "#f0f921"
            ]
           ]
          },
          "colorway": [
           "#636efa",
           "#EF553B",
           "#00cc96",
           "#ab63fa",
           "#FFA15A",
           "#19d3f3",
           "#FF6692",
           "#B6E880",
           "#FF97FF",
           "#FECB52"
          ],
          "font": {
           "color": "#2a3f5f"
          },
          "geo": {
           "bgcolor": "white",
           "lakecolor": "white",
           "landcolor": "#E5ECF6",
           "showlakes": true,
           "showland": true,
           "subunitcolor": "white"
          },
          "hoverlabel": {
           "align": "left"
          },
          "hovermode": "closest",
          "mapbox": {
           "style": "light"
          },
          "paper_bgcolor": "white",
          "plot_bgcolor": "#E5ECF6",
          "polar": {
           "angularaxis": {
            "gridcolor": "white",
            "linecolor": "white",
            "ticks": ""
           },
           "bgcolor": "#E5ECF6",
           "radialaxis": {
            "gridcolor": "white",
            "linecolor": "white",
            "ticks": ""
           }
          },
          "scene": {
           "xaxis": {
            "backgroundcolor": "#E5ECF6",
            "gridcolor": "white",
            "gridwidth": 2,
            "linecolor": "white",
            "showbackground": true,
            "ticks": "",
            "zerolinecolor": "white"
           },
           "yaxis": {
            "backgroundcolor": "#E5ECF6",
            "gridcolor": "white",
            "gridwidth": 2,
            "linecolor": "white",
            "showbackground": true,
            "ticks": "",
            "zerolinecolor": "white"
           },
           "zaxis": {
            "backgroundcolor": "#E5ECF6",
            "gridcolor": "white",
            "gridwidth": 2,
            "linecolor": "white",
            "showbackground": true,
            "ticks": "",
            "zerolinecolor": "white"
           }
          },
          "shapedefaults": {
           "line": {
            "color": "#2a3f5f"
           }
          },
          "ternary": {
           "aaxis": {
            "gridcolor": "white",
            "linecolor": "white",
            "ticks": ""
           },
           "baxis": {
            "gridcolor": "white",
            "linecolor": "white",
            "ticks": ""
           },
           "bgcolor": "#E5ECF6",
           "caxis": {
            "gridcolor": "white",
            "linecolor": "white",
            "ticks": ""
           }
          },
          "title": {
           "x": 0.05
          },
          "xaxis": {
           "automargin": true,
           "gridcolor": "white",
           "linecolor": "white",
           "ticks": "",
           "title": {
            "standoff": 15
           },
           "zerolinecolor": "white",
           "zerolinewidth": 2
          },
          "yaxis": {
           "automargin": true,
           "gridcolor": "white",
           "linecolor": "white",
           "ticks": "",
           "title": {
            "standoff": 15
           },
           "zerolinecolor": "white",
           "zerolinewidth": 2
          }
         }
        },
        "title": {
         "text": "Rows Grouped by Constituency"
        },
        "xaxis": {
         "anchor": "y",
         "domain": [
          0,
          1
         ],
         "title": {
          "text": "Constituency"
         }
        },
        "yaxis": {
         "anchor": "x",
         "domain": [
          0,
          1
         ],
         "title": {
          "text": "Number of Rows"
         }
        }
       }
      }
     },
     "metadata": {},
     "output_type": "display_data"
    }
   ],
   "source": [
    "import plotly.express as px\n",
    "\n",
    "# Load your dataset (replace 'your_file.csv' with the actual file path)\n",
    "df = data.copy()\n",
    "df=df[df['Constituency']!='OBS']\n",
    "\n",
    "# Group by 'Constituency' and count the number of rows\n",
    "grouped_df = df['Constituency'].value_counts().reset_index()\n",
    "grouped_df.columns = ['Constituency', 'Count']\n",
    "\n",
    "# Create a bar chart\n",
    "fig = px.bar(grouped_df, x='Constituency', y='Count', title='Rows Grouped by Constituency', \n",
    "             labels={'Constituency': 'Constituency', 'Count': 'Number of Rows'},\n",
    "             color='Count')\n",
    "\n",
    "# Show the plot\n",
    "fig.show()"
   ]
  },
  {
   "cell_type": "code",
   "execution_count": 12,
   "metadata": {},
   "outputs": [
    {
     "data": {
      "application/vnd.plotly.v1+json": {
       "config": {
        "plotlyServerURL": "https://plot.ly"
       },
       "data": [
        {
         "alignmentgroup": "True",
         "hovertemplate": "Statistic=mean<br>Constituency=%{x}<br>Word Count=%{y}<extra></extra>",
         "legendgroup": "mean",
         "marker": {
          "color": "#636efa",
          "pattern": {
           "shape": ""
          }
         },
         "name": "mean",
         "offsetgroup": "mean",
         "orientation": "v",
         "showlegend": true,
         "textposition": "auto",
         "type": "bar",
         "x": [
          "AE",
          "AF",
          "AG",
          "AP",
          "BR",
          "CC",
          "CE",
          "CO",
          "EC",
          "FF",
          "GR",
          "IN",
          "IT",
          "JA",
          "MD",
          "MI",
          "NE",
          "NO",
          "RU",
          "SA",
          "ST",
          "SZ",
          "UK",
          "US"
         ],
         "xaxis": "x",
         "y": {
          "bdata": "AAAAAECwnUB00UUXXVyZQGZmZmamGr1AaWlpaWkZm0A2lNdQXkGhQMdxHMdxG6FAbtu2bdv2lUCamZmZmdafQKuqqqqql5lA3t3d3d2xoUAAAAAAAEyjQJeWlpaWl7BAzczMzEwHrECrqqqqqo6fQAAAAADA4ZFAmpmZmZldo0AAAAAAAHmgQJIkSZIknZtAAAAAAADql0AAAAAAAAyaQJ7YiZ3YlZhA27Zt27b1nkBeQ3kN5cWgQM3MzMzM6JdA",
          "dtype": "f8"
         },
         "yaxis": "y"
        },
        {
         "alignmentgroup": "True",
         "hovertemplate": "Statistic=max<br>Constituency=%{x}<br>Word Count=%{y}<extra></extra>",
         "legendgroup": "max",
         "marker": {
          "color": "#EF553B",
          "pattern": {
           "shape": ""
          }
         },
         "name": "max",
         "offsetgroup": "max",
         "orientation": "v",
         "showlegend": true,
         "textposition": "auto",
         "type": "bar",
         "x": [
          "AE",
          "AF",
          "AG",
          "AP",
          "BR",
          "CC",
          "CE",
          "CO",
          "EC",
          "FF",
          "GR",
          "IN",
          "IT",
          "JA",
          "MD",
          "MI",
          "NE",
          "NO",
          "RU",
          "SA",
          "ST",
          "SZ",
          "UK",
          "US"
         ],
         "xaxis": "x",
         "y": {
          "bdata": "AAAAAAACrEAAAAAAACSfQAAAAACAI8VAAAAAAACApEAAAAAAAKqoQAAAAAAADqZAAAAAAABwmkAAAAAAAPisQAAAAAAA7qJAAAAAAAA0skAAAAAAAKSxQAAAAAAAh7lAAAAAAACtt0AAAAAAAKqlQAAAAAAA8JhAAAAAAABnt0AAAAAAAG6rQAAAAAAA8KhAAAAAAAD0nEAAAAAAAJSeQAAAAAAALJ9AAAAAAADEpUAAAAAAAFexQAAAAAAAzqNA",
          "dtype": "f8"
         },
         "yaxis": "y"
        },
        {
         "alignmentgroup": "True",
         "hovertemplate": "Statistic=min<br>Constituency=%{x}<br>Word Count=%{y}<extra></extra>",
         "legendgroup": "min",
         "marker": {
          "color": "#00cc96",
          "pattern": {
           "shape": ""
          }
         },
         "name": "min",
         "offsetgroup": "min",
         "orientation": "v",
         "showlegend": true,
         "textposition": "auto",
         "type": "bar",
         "x": [
          "AE",
          "AF",
          "AG",
          "AP",
          "BR",
          "CC",
          "CE",
          "CO",
          "EC",
          "FF",
          "GR",
          "IN",
          "IT",
          "JA",
          "MD",
          "MI",
          "NE",
          "NO",
          "RU",
          "SA",
          "ST",
          "SZ",
          "UK",
          "US"
         ],
         "xaxis": "x",
         "y": {
          "bdata": "AAAAAABAkkAAAAAAAIyTQAAAAAAA2bFAAAAAAAAgkEAAAAAAAGSVQAAAAAAAZJhAAAAAAADkkEAAAAAAAJB+QAAAAAAA2I9AAAAAAAAgk0AAAAAAAEicQAAAAAAAqqRAAAAAAABUkUAAAAAAAOCQQAAAAAAA2IVAAAAAAAD8kUAAAAAAANyRQAAAAAAAiJVAAAAAAACAlUAAAAAAAJyWQAAAAAAAHJRAAAAAAADclUAAAAAAANyQQAAAAAAAQJBA",
          "dtype": "f8"
         },
         "yaxis": "y"
        }
       ],
       "layout": {
        "barmode": "group",
        "legend": {
         "title": {
          "text": "Statistic"
         },
         "tracegroupgap": 0
        },
        "template": {
         "data": {
          "bar": [
           {
            "error_x": {
             "color": "#2a3f5f"
            },
            "error_y": {
             "color": "#2a3f5f"
            },
            "marker": {
             "line": {
              "color": "#E5ECF6",
              "width": 0.5
             },
             "pattern": {
              "fillmode": "overlay",
              "size": 10,
              "solidity": 0.2
             }
            },
            "type": "bar"
           }
          ],
          "barpolar": [
           {
            "marker": {
             "line": {
              "color": "#E5ECF6",
              "width": 0.5
             },
             "pattern": {
              "fillmode": "overlay",
              "size": 10,
              "solidity": 0.2
             }
            },
            "type": "barpolar"
           }
          ],
          "carpet": [
           {
            "aaxis": {
             "endlinecolor": "#2a3f5f",
             "gridcolor": "white",
             "linecolor": "white",
             "minorgridcolor": "white",
             "startlinecolor": "#2a3f5f"
            },
            "baxis": {
             "endlinecolor": "#2a3f5f",
             "gridcolor": "white",
             "linecolor": "white",
             "minorgridcolor": "white",
             "startlinecolor": "#2a3f5f"
            },
            "type": "carpet"
           }
          ],
          "choropleth": [
           {
            "colorbar": {
             "outlinewidth": 0,
             "ticks": ""
            },
            "type": "choropleth"
           }
          ],
          "contour": [
           {
            "colorbar": {
             "outlinewidth": 0,
             "ticks": ""
            },
            "colorscale": [
             [
              0,
              "#0d0887"
             ],
             [
              0.1111111111111111,
              "#46039f"
             ],
             [
              0.2222222222222222,
              "#7201a8"
             ],
             [
              0.3333333333333333,
              "#9c179e"
             ],
             [
              0.4444444444444444,
              "#bd3786"
             ],
             [
              0.5555555555555556,
              "#d8576b"
             ],
             [
              0.6666666666666666,
              "#ed7953"
             ],
             [
              0.7777777777777778,
              "#fb9f3a"
             ],
             [
              0.8888888888888888,
              "#fdca26"
             ],
             [
              1,
              "#f0f921"
             ]
            ],
            "type": "contour"
           }
          ],
          "contourcarpet": [
           {
            "colorbar": {
             "outlinewidth": 0,
             "ticks": ""
            },
            "type": "contourcarpet"
           }
          ],
          "heatmap": [
           {
            "colorbar": {
             "outlinewidth": 0,
             "ticks": ""
            },
            "colorscale": [
             [
              0,
              "#0d0887"
             ],
             [
              0.1111111111111111,
              "#46039f"
             ],
             [
              0.2222222222222222,
              "#7201a8"
             ],
             [
              0.3333333333333333,
              "#9c179e"
             ],
             [
              0.4444444444444444,
              "#bd3786"
             ],
             [
              0.5555555555555556,
              "#d8576b"
             ],
             [
              0.6666666666666666,
              "#ed7953"
             ],
             [
              0.7777777777777778,
              "#fb9f3a"
             ],
             [
              0.8888888888888888,
              "#fdca26"
             ],
             [
              1,
              "#f0f921"
             ]
            ],
            "type": "heatmap"
           }
          ],
          "histogram": [
           {
            "marker": {
             "pattern": {
              "fillmode": "overlay",
              "size": 10,
              "solidity": 0.2
             }
            },
            "type": "histogram"
           }
          ],
          "histogram2d": [
           {
            "colorbar": {
             "outlinewidth": 0,
             "ticks": ""
            },
            "colorscale": [
             [
              0,
              "#0d0887"
             ],
             [
              0.1111111111111111,
              "#46039f"
             ],
             [
              0.2222222222222222,
              "#7201a8"
             ],
             [
              0.3333333333333333,
              "#9c179e"
             ],
             [
              0.4444444444444444,
              "#bd3786"
             ],
             [
              0.5555555555555556,
              "#d8576b"
             ],
             [
              0.6666666666666666,
              "#ed7953"
             ],
             [
              0.7777777777777778,
              "#fb9f3a"
             ],
             [
              0.8888888888888888,
              "#fdca26"
             ],
             [
              1,
              "#f0f921"
             ]
            ],
            "type": "histogram2d"
           }
          ],
          "histogram2dcontour": [
           {
            "colorbar": {
             "outlinewidth": 0,
             "ticks": ""
            },
            "colorscale": [
             [
              0,
              "#0d0887"
             ],
             [
              0.1111111111111111,
              "#46039f"
             ],
             [
              0.2222222222222222,
              "#7201a8"
             ],
             [
              0.3333333333333333,
              "#9c179e"
             ],
             [
              0.4444444444444444,
              "#bd3786"
             ],
             [
              0.5555555555555556,
              "#d8576b"
             ],
             [
              0.6666666666666666,
              "#ed7953"
             ],
             [
              0.7777777777777778,
              "#fb9f3a"
             ],
             [
              0.8888888888888888,
              "#fdca26"
             ],
             [
              1,
              "#f0f921"
             ]
            ],
            "type": "histogram2dcontour"
           }
          ],
          "mesh3d": [
           {
            "colorbar": {
             "outlinewidth": 0,
             "ticks": ""
            },
            "type": "mesh3d"
           }
          ],
          "parcoords": [
           {
            "line": {
             "colorbar": {
              "outlinewidth": 0,
              "ticks": ""
             }
            },
            "type": "parcoords"
           }
          ],
          "pie": [
           {
            "automargin": true,
            "type": "pie"
           }
          ],
          "scatter": [
           {
            "fillpattern": {
             "fillmode": "overlay",
             "size": 10,
             "solidity": 0.2
            },
            "type": "scatter"
           }
          ],
          "scatter3d": [
           {
            "line": {
             "colorbar": {
              "outlinewidth": 0,
              "ticks": ""
             }
            },
            "marker": {
             "colorbar": {
              "outlinewidth": 0,
              "ticks": ""
             }
            },
            "type": "scatter3d"
           }
          ],
          "scattercarpet": [
           {
            "marker": {
             "colorbar": {
              "outlinewidth": 0,
              "ticks": ""
             }
            },
            "type": "scattercarpet"
           }
          ],
          "scattergeo": [
           {
            "marker": {
             "colorbar": {
              "outlinewidth": 0,
              "ticks": ""
             }
            },
            "type": "scattergeo"
           }
          ],
          "scattergl": [
           {
            "marker": {
             "colorbar": {
              "outlinewidth": 0,
              "ticks": ""
             }
            },
            "type": "scattergl"
           }
          ],
          "scattermap": [
           {
            "marker": {
             "colorbar": {
              "outlinewidth": 0,
              "ticks": ""
             }
            },
            "type": "scattermap"
           }
          ],
          "scattermapbox": [
           {
            "marker": {
             "colorbar": {
              "outlinewidth": 0,
              "ticks": ""
             }
            },
            "type": "scattermapbox"
           }
          ],
          "scatterpolar": [
           {
            "marker": {
             "colorbar": {
              "outlinewidth": 0,
              "ticks": ""
             }
            },
            "type": "scatterpolar"
           }
          ],
          "scatterpolargl": [
           {
            "marker": {
             "colorbar": {
              "outlinewidth": 0,
              "ticks": ""
             }
            },
            "type": "scatterpolargl"
           }
          ],
          "scatterternary": [
           {
            "marker": {
             "colorbar": {
              "outlinewidth": 0,
              "ticks": ""
             }
            },
            "type": "scatterternary"
           }
          ],
          "surface": [
           {
            "colorbar": {
             "outlinewidth": 0,
             "ticks": ""
            },
            "colorscale": [
             [
              0,
              "#0d0887"
             ],
             [
              0.1111111111111111,
              "#46039f"
             ],
             [
              0.2222222222222222,
              "#7201a8"
             ],
             [
              0.3333333333333333,
              "#9c179e"
             ],
             [
              0.4444444444444444,
              "#bd3786"
             ],
             [
              0.5555555555555556,
              "#d8576b"
             ],
             [
              0.6666666666666666,
              "#ed7953"
             ],
             [
              0.7777777777777778,
              "#fb9f3a"
             ],
             [
              0.8888888888888888,
              "#fdca26"
             ],
             [
              1,
              "#f0f921"
             ]
            ],
            "type": "surface"
           }
          ],
          "table": [
           {
            "cells": {
             "fill": {
              "color": "#EBF0F8"
             },
             "line": {
              "color": "white"
             }
            },
            "header": {
             "fill": {
              "color": "#C8D4E3"
             },
             "line": {
              "color": "white"
             }
            },
            "type": "table"
           }
          ]
         },
         "layout": {
          "annotationdefaults": {
           "arrowcolor": "#2a3f5f",
           "arrowhead": 0,
           "arrowwidth": 1
          },
          "autotypenumbers": "strict",
          "coloraxis": {
           "colorbar": {
            "outlinewidth": 0,
            "ticks": ""
           }
          },
          "colorscale": {
           "diverging": [
            [
             0,
             "#8e0152"
            ],
            [
             0.1,
             "#c51b7d"
            ],
            [
             0.2,
             "#de77ae"
            ],
            [
             0.3,
             "#f1b6da"
            ],
            [
             0.4,
             "#fde0ef"
            ],
            [
             0.5,
             "#f7f7f7"
            ],
            [
             0.6,
             "#e6f5d0"
            ],
            [
             0.7,
             "#b8e186"
            ],
            [
             0.8,
             "#7fbc41"
            ],
            [
             0.9,
             "#4d9221"
            ],
            [
             1,
             "#276419"
            ]
           ],
           "sequential": [
            [
             0,
             "#0d0887"
            ],
            [
             0.1111111111111111,
             "#46039f"
            ],
            [
             0.2222222222222222,
             "#7201a8"
            ],
            [
             0.3333333333333333,
             "#9c179e"
            ],
            [
             0.4444444444444444,
             "#bd3786"
            ],
            [
             0.5555555555555556,
             "#d8576b"
            ],
            [
             0.6666666666666666,
             "#ed7953"
            ],
            [
             0.7777777777777778,
             "#fb9f3a"
            ],
            [
             0.8888888888888888,
             "#fdca26"
            ],
            [
             1,
             "#f0f921"
            ]
           ],
           "sequentialminus": [
            [
             0,
             "#0d0887"
            ],
            [
             0.1111111111111111,
             "#46039f"
            ],
            [
             0.2222222222222222,
             "#7201a8"
            ],
            [
             0.3333333333333333,
             "#9c179e"
            ],
            [
             0.4444444444444444,
             "#bd3786"
            ],
            [
             0.5555555555555556,
             "#d8576b"
            ],
            [
             0.6666666666666666,
             "#ed7953"
            ],
            [
             0.7777777777777778,
             "#fb9f3a"
            ],
            [
             0.8888888888888888,
             "#fdca26"
            ],
            [
             1,
             "#f0f921"
            ]
           ]
          },
          "colorway": [
           "#636efa",
           "#EF553B",
           "#00cc96",
           "#ab63fa",
           "#FFA15A",
           "#19d3f3",
           "#FF6692",
           "#B6E880",
           "#FF97FF",
           "#FECB52"
          ],
          "font": {
           "color": "#2a3f5f"
          },
          "geo": {
           "bgcolor": "white",
           "lakecolor": "white",
           "landcolor": "#E5ECF6",
           "showlakes": true,
           "showland": true,
           "subunitcolor": "white"
          },
          "hoverlabel": {
           "align": "left"
          },
          "hovermode": "closest",
          "mapbox": {
           "style": "light"
          },
          "paper_bgcolor": "white",
          "plot_bgcolor": "#E5ECF6",
          "polar": {
           "angularaxis": {
            "gridcolor": "white",
            "linecolor": "white",
            "ticks": ""
           },
           "bgcolor": "#E5ECF6",
           "radialaxis": {
            "gridcolor": "white",
            "linecolor": "white",
            "ticks": ""
           }
          },
          "scene": {
           "xaxis": {
            "backgroundcolor": "#E5ECF6",
            "gridcolor": "white",
            "gridwidth": 2,
            "linecolor": "white",
            "showbackground": true,
            "ticks": "",
            "zerolinecolor": "white"
           },
           "yaxis": {
            "backgroundcolor": "#E5ECF6",
            "gridcolor": "white",
            "gridwidth": 2,
            "linecolor": "white",
            "showbackground": true,
            "ticks": "",
            "zerolinecolor": "white"
           },
           "zaxis": {
            "backgroundcolor": "#E5ECF6",
            "gridcolor": "white",
            "gridwidth": 2,
            "linecolor": "white",
            "showbackground": true,
            "ticks": "",
            "zerolinecolor": "white"
           }
          },
          "shapedefaults": {
           "line": {
            "color": "#2a3f5f"
           }
          },
          "ternary": {
           "aaxis": {
            "gridcolor": "white",
            "linecolor": "white",
            "ticks": ""
           },
           "baxis": {
            "gridcolor": "white",
            "linecolor": "white",
            "ticks": ""
           },
           "bgcolor": "#E5ECF6",
           "caxis": {
            "gridcolor": "white",
            "linecolor": "white",
            "ticks": ""
           }
          },
          "title": {
           "x": 0.05
          },
          "xaxis": {
           "automargin": true,
           "gridcolor": "white",
           "linecolor": "white",
           "ticks": "",
           "title": {
            "standoff": 15
           },
           "zerolinecolor": "white",
           "zerolinewidth": 2
          },
          "yaxis": {
           "automargin": true,
           "gridcolor": "white",
           "linecolor": "white",
           "ticks": "",
           "title": {
            "standoff": 15
           },
           "zerolinecolor": "white",
           "zerolinewidth": 2
          }
         }
        },
        "title": {
         "text": "Word Count Stats by Constituency"
        },
        "xaxis": {
         "anchor": "y",
         "domain": [
          0,
          1
         ],
         "title": {
          "text": "Constituency"
         }
        },
        "yaxis": {
         "anchor": "x",
         "domain": [
          0,
          1
         ],
         "title": {
          "text": "Word Count"
         }
        }
       }
      }
     },
     "metadata": {},
     "output_type": "display_data"
    }
   ],
   "source": [
    "# Function to count words in Extracted_Text\n",
    "df['Word_Count'] = df['Extracted_Text'].astype(str).apply(lambda x: len(x.split()))\n",
    "\n",
    "agg_df = df.groupby('Constituency')['Word_Count'].agg(['mean', 'max', 'min']).reset_index()\n",
    "\n",
    "fig2 = px.bar(agg_df, x='Constituency', y=['mean', 'max', 'min'], \n",
    "              title='Word Count Stats by Constituency',\n",
    "              labels={'value': 'Word Count', 'variable': 'Statistic'},\n",
    "              barmode='group')\n",
    "\n",
    "fig2.show()"
   ]
  },
  {
   "cell_type": "code",
   "execution_count": null,
   "metadata": {},
   "outputs": [],
   "source": []
  }
 ],
 "metadata": {
  "kernelspec": {
   "display_name": "Python 3",
   "language": "python",
   "name": "python3"
  },
  "language_info": {
   "codemirror_mode": {
    "name": "ipython",
    "version": 3
   },
   "file_extension": ".py",
   "mimetype": "text/x-python",
   "name": "python",
   "nbconvert_exporter": "python",
   "pygments_lexer": "ipython3",
   "version": "3.13.1"
  }
 },
 "nbformat": 4,
 "nbformat_minor": 2
}
