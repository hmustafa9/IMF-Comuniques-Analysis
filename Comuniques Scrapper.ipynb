{
 "cells": [
  {
   "cell_type": "code",
   "execution_count": 21,
   "metadata": {},
   "outputs": [],
   "source": [
    "import requests\n",
    "from bs4 import BeautifulSoup\n",
    "import pandas as pd"
   ]
  },
  {
   "cell_type": "code",
   "execution_count": 22,
   "metadata": {},
   "outputs": [],
   "source": [
    "links=pd.read_csv('links.csv')"
   ]
  },
  {
   "cell_type": "code",
   "execution_count": 23,
   "metadata": {},
   "outputs": [
    {
     "data": {
      "text/plain": [
       "0      https://www.imf.org/en/News/Articles/2024/10/2...\n",
       "1      https://www.imf.org/en/News/Articles/2024/04/1...\n",
       "2      https://www.imf.org/en/News/Articles/2023/10/1...\n",
       "3      https://www.imf.org/en/News/Articles/2023/04/1...\n",
       "4      https://www.imf.org/en/News/Articles/2022/10/1...\n",
       "                             ...                        \n",
       "168    https://www.imf.org/en/News/Articles/2015/09/2...\n",
       "169    https://www.imf.org/en/News/Articles/2015/09/2...\n",
       "170    https://www.imf.org/en/News/Articles/2015/09/2...\n",
       "171    https://www.imf.org/en/News/Articles/2015/09/2...\n",
       "172    https://www.imf.org/en/News/Articles/2015/09/2...\n",
       "Name: Links, Length: 173, dtype: object"
      ]
     },
     "execution_count": 23,
     "metadata": {},
     "output_type": "execute_result"
    }
   ],
   "source": [
    "links['Links']"
   ]
  },
  {
   "cell_type": "code",
   "execution_count": 24,
   "metadata": {},
   "outputs": [
    {
     "name": "stdout",
     "output_type": "stream",
     "text": [
      "                                                 Title  \\\n",
      "0    Intergovernmental Group of Twenty-Four on Inte...   \n",
      "1    Intergovernmental Group of Twenty-Four on Inte...   \n",
      "2    Intergovernmental Group of Twenty-Four on Inte...   \n",
      "3    Intergovernmental Group of Twenty-Four on Inte...   \n",
      "4    Intergovernmental Group of Twenty-Four on Inte...   \n",
      "..                                                 ...   \n",
      "168  Communiqué of the Interim Committee of the Boa...   \n",
      "169                    Group of Twenty Four Communiqué   \n",
      "170  Communiqué of the Ministers and Governors of t...   \n",
      "171                       Interim Committee Communiqué   \n",
      "172  Intergovernmental Group of Twenty-Four on Inte...   \n",
      "\n",
      "                                               Subtext  \n",
      "0    October 22, 2024 1. The G-24 expresses its dee...  \n",
      "1    April 16, 2024 1. The G‑24 recognizes the prof...  \n",
      "2    October 10, 2023 1.               We  express ...  \n",
      "3    April 11, 2023 Ministers of the Intergovernmen...  \n",
      "4    October 11, 2022 1. Multiple compounding crise...  \n",
      "..                                                 ...  \n",
      "168  September 21, 1997  In the advanced economies ...  \n",
      "169  September 20, 1997 Ministers of the Intergover...  \n",
      "170  April 28, 1997 Washington, D.C. 1. The Ministe...  \n",
      "171  April 28, 1997 The Committee welcomed the gene...  \n",
      "172  April 27, 1997 Washington, DC The meeting of t...  \n",
      "\n",
      "[173 rows x 2 columns]\n"
     ]
    }
   ],
   "source": [
    "\n",
    "# Data storage\n",
    "data = []\n",
    "\n",
    "# Iterate over links\n",
    "for link in links['Links']:\n",
    "    try:\n",
    "        # Fetch the page content\n",
    "        response = requests.get(link)\n",
    "        response.raise_for_status()  # Ensure the request was successful\n",
    "        soup = BeautifulSoup(response.text, 'html.parser')\n",
    "        \n",
    "        # Find the target <section> tag\n",
    "        section = soup.find('section')\n",
    "        \n",
    "        if section:\n",
    "            # Extract the title from <h2>\n",
    "            title = section.find('h2').get_text(strip=True) if section.find('h2') else \"No Title\"\n",
    "            \n",
    "            # Extract all <p> tags and combine their text into one string\n",
    "            subtext = \" \".join([p.get_text(strip=True) for p in section.find_all('p')])\n",
    "            \n",
    "            # Add to data list\n",
    "            data.append({'Title': title, 'Subtext': subtext})\n",
    "        else:\n",
    "            # Handle missing <section>\n",
    "            data.append({'Title': \"No Section Found\", 'Subtext': \"No Subtext Found\"})\n",
    "    \n",
    "    except Exception as e:\n",
    "        # Handle errors and continue with the next link\n",
    "        print(f\"Error processing {link}: {e}\")\n",
    "        data.append({'Title': \"Error\", 'Subtext': str(e)})\n",
    "\n",
    "# Convert data into a DataFrame\n",
    "df = pd.DataFrame(data)\n",
    "\n",
    "# Print the DataFrame\n",
    "print(df)\n"
   ]
  },
  {
   "cell_type": "code",
   "execution_count": 25,
   "metadata": {},
   "outputs": [],
   "source": [
    "df.to_csv(\"scraped_data.csv\", index=False)"
   ]
  },
  {
   "cell_type": "code",
   "execution_count": null,
   "metadata": {},
   "outputs": [],
   "source": []
  }
 ],
 "metadata": {
  "kernelspec": {
   "display_name": "Python 3",
   "language": "python",
   "name": "python3"
  },
  "language_info": {
   "codemirror_mode": {
    "name": "ipython",
    "version": 3
   },
   "file_extension": ".py",
   "mimetype": "text/x-python",
   "name": "python",
   "nbconvert_exporter": "python",
   "pygments_lexer": "ipython3",
   "version": "3.12.2"
  }
 },
 "nbformat": 4,
 "nbformat_minor": 2
}
